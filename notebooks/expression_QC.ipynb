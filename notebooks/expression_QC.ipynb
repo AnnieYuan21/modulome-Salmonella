{
 "cells": [
  {
   "cell_type": "markdown",
   "metadata": {
    "toc": true
   },
   "source": [
    "<h1>Table of Contents<span class=\"tocSkip\"></span></h1>\n",
    "<div class=\"toc\"><ul class=\"toc-item\"><li><span><a href=\"#Setup\" data-toc-modified-id=\"Setup-1\"><span class=\"toc-item-num\">1&nbsp;&nbsp;</span>Setup</a></span><ul class=\"toc-item\"><li><span><a href=\"#QC-Thresholds\" data-toc-modified-id=\"QC-Thresholds-1.1\"><span class=\"toc-item-num\">1.1&nbsp;&nbsp;</span>QC Thresholds</a></span></li><li><span><a href=\"#Inputs\" data-toc-modified-id=\"Inputs-1.2\"><span class=\"toc-item-num\">1.2&nbsp;&nbsp;</span>Inputs</a></span></li><li><span><a href=\"#Load-expression-data\" data-toc-modified-id=\"Load-expression-data-1.3\"><span class=\"toc-item-num\">1.3&nbsp;&nbsp;</span>Load expression data</a></span></li><li><span><a href=\"#Load-QC-data\" data-toc-modified-id=\"Load-QC-data-1.4\"><span class=\"toc-item-num\">1.4&nbsp;&nbsp;</span>Load QC data</a></span></li><li><span><a href=\"#Load-metadata\" data-toc-modified-id=\"Load-metadata-1.5\"><span class=\"toc-item-num\">1.5&nbsp;&nbsp;</span>Load metadata</a></span></li><li><span><a href=\"#Remove-extra-sample-rows\" data-toc-modified-id=\"Remove-extra-sample-rows-1.6\"><span class=\"toc-item-num\">1.6&nbsp;&nbsp;</span>Remove extra sample rows</a></span></li></ul></li><li><span><a href=\"#Check-statistics\" data-toc-modified-id=\"Check-statistics-2\"><span class=\"toc-item-num\">2&nbsp;&nbsp;</span>Check statistics</a></span><ul class=\"toc-item\"><li><span><a href=\"#FastQC-stats\" data-toc-modified-id=\"FastQC-stats-2.1\"><span class=\"toc-item-num\">2.1&nbsp;&nbsp;</span>FastQC stats</a></span></li><li><span><a href=\"#Number-of-aligned-reads\" data-toc-modified-id=\"Number-of-aligned-reads-2.2\"><span class=\"toc-item-num\">2.2&nbsp;&nbsp;</span>Number of aligned reads</a></span></li></ul></li><li><span><a href=\"#Examine-Global-Correlations\" data-toc-modified-id=\"Examine-Global-Correlations-3\"><span class=\"toc-item-num\">3&nbsp;&nbsp;</span>Examine Global Correlations</a></span><ul class=\"toc-item\"><li><span><a href=\"#Hierarchical-Clustering\" data-toc-modified-id=\"Hierarchical-Clustering-3.1\"><span class=\"toc-item-num\">3.1&nbsp;&nbsp;</span>Hierarchical Clustering</a></span></li></ul></li><li><span><a href=\"#Remove-failed-samples\" data-toc-modified-id=\"Remove-failed-samples-4\"><span class=\"toc-item-num\">4&nbsp;&nbsp;</span>Remove failed samples</a></span></li><li><span><a href=\"#Metadata-Curation\" data-toc-modified-id=\"Metadata-Curation-5\"><span class=\"toc-item-num\">5&nbsp;&nbsp;</span>Metadata Curation</a></span><ul class=\"toc-item\"><li><span><a href=\"#BioProject-counts-of-passing-metadata\" data-toc-modified-id=\"BioProject-counts-of-passing-metadata-5.1\"><span class=\"toc-item-num\">5.1&nbsp;&nbsp;</span>BioProject counts of passing metadata</a></span></li><li><span><a href=\"#BioProject-counts-of-all-metadata\" data-toc-modified-id=\"BioProject-counts-of-all-metadata-5.2\"><span class=\"toc-item-num\">5.2&nbsp;&nbsp;</span>BioProject counts of all metadata</a></span></li></ul></li><li><span><a href=\"#Correlations-between-replicates\" data-toc-modified-id=\"Correlations-between-replicates-6\"><span class=\"toc-item-num\">6&nbsp;&nbsp;</span>Correlations between replicates</a></span><ul class=\"toc-item\"><li><span><a href=\"#Compute-Pearson-R-Score\" data-toc-modified-id=\"Compute-Pearson-R-Score-6.1\"><span class=\"toc-item-num\">6.1&nbsp;&nbsp;</span>Compute Pearson R Score</a></span></li><li><span><a href=\"#Drop-Samples-with-no-replicates\" data-toc-modified-id=\"Drop-Samples-with-no-replicates-6.2\"><span class=\"toc-item-num\">6.2&nbsp;&nbsp;</span>Drop Samples with no replicates</a></span></li><li><span><a href=\"#SL1344:-Removed-two-datasets-that-are-not-RNA-seq\" data-toc-modified-id=\"SL1344:-Removed-two-datasets-that-are-not-RNA-seq-6.3\"><span class=\"toc-item-num\">6.3&nbsp;&nbsp;</span>SL1344: Removed two datasets that are not RNA-seq</a></span></li><li><span><a href=\"#ST4/74:-Kept-samples-under-interesting-condition-but-no-replicates\" data-toc-modified-id=\"ST4/74:-Kept-samples-under-interesting-condition-but-no-replicates-6.4\"><span class=\"toc-item-num\">6.4&nbsp;&nbsp;</span>ST4/74: Kept samples under interesting condition but no replicates</a></span></li><li><span><a href=\"#D23580:-comparative-studies-are-kept\" data-toc-modified-id=\"D23580:-comparative-studies-are-kept-6.5\"><span class=\"toc-item-num\">6.5&nbsp;&nbsp;</span>D23580: comparative studies are kept</a></span></li><li><span><a href=\"#14028S:-Time-series-dataset-(PRJNA280002)-was-kept\" data-toc-modified-id=\"14028S:-Time-series-dataset-(PRJNA280002)-was-kept-6.6\"><span class=\"toc-item-num\">6.6&nbsp;&nbsp;</span>14028S: Time series dataset (PRJNA280002) was kept</a></span></li></ul></li><li><span><a href=\"#Remove-failed-samples\" data-toc-modified-id=\"Remove-failed-samples-7\"><span class=\"toc-item-num\">7&nbsp;&nbsp;</span>Remove failed samples</a></span></li><li><span><a href=\"#Final-statistics\" data-toc-modified-id=\"Final-statistics-8\"><span class=\"toc-item-num\">8&nbsp;&nbsp;</span>Final statistics</a></span></li><li><span><a href=\"#Save-final-datasets\" data-toc-modified-id=\"Save-final-datasets-9\"><span class=\"toc-item-num\">9&nbsp;&nbsp;</span>Save final datasets</a></span></li></ul></div>"
   ]
  },
  {
   "cell_type": "markdown",
   "metadata": {},
   "source": [
    "<font size=\"4\">This is a template notebook for performing preliminary quality control on your organism's expression data.</font>"
   ]
  },
  {
   "cell_type": "code",
   "execution_count": 1,
   "metadata": {},
   "outputs": [],
   "source": [
    "import pandas as pd\n",
    "import os\n",
    "from os import path\n",
    "import matplotlib.pyplot as plt\n",
    "import seaborn as sns\n",
    "import numpy as np"
   ]
  },
  {
   "cell_type": "code",
   "execution_count": 2,
   "metadata": {},
   "outputs": [],
   "source": [
    "sns.set_style('ticks')"
   ]
  },
  {
   "cell_type": "markdown",
   "metadata": {},
   "source": [
    "# Setup"
   ]
  },
  {
   "cell_type": "markdown",
   "metadata": {},
   "source": [
    "## QC Thresholds"
   ]
  },
  {
   "cell_type": "code",
   "execution_count": 3,
   "metadata": {},
   "outputs": [],
   "source": [
    "#min_pct_aligned = 40 # Minimum percent of reads aligned to genome\n",
    "min_mrna_reads = 5e5 # Minimum number of reads mapped to mRNA"
   ]
  },
  {
   "cell_type": "markdown",
   "metadata": {},
   "source": [
    "## Inputs"
   ]
  },
  {
   "cell_type": "markdown",
   "metadata": {},
   "source": [
    "<font size=\"4\">Enter organism name here</font>"
   ]
  },
  {
   "cell_type": "code",
   "execution_count": 4,
   "metadata": {},
   "outputs": [],
   "source": [
    "#list of organisms: \n",
    "# LT2 :stm\n",
    "# UK-1:sej\n",
    "# D23580:sev\n",
    "# SL1344:sey\n",
    "# ST4/74:seb\n",
    "# 14028S:seo\n",
    "\n",
    "# Enteritidis :set\n",
    "# heidelberg_41578: seeh"
   ]
  },
  {
   "cell_type": "code",
   "execution_count": 5,
   "metadata": {},
   "outputs": [],
   "source": [
    "organism='LT2'"
   ]
  },
  {
   "cell_type": "markdown",
   "metadata": {},
   "source": [
    "<font size=\"4\">Show files in the organism directory</font>"
   ]
  },
  {
   "cell_type": "code",
   "execution_count": 6,
   "metadata": {},
   "outputs": [
    {
     "data": {
      "text/plain": [
       "['log_tpm.csv',\n",
       " 'multiqc_report.html',\n",
       " 'Salmonella_enterica_LT2.tsv',\n",
       " 'multiqc_stats.tsv']"
      ]
     },
     "execution_count": 6,
     "metadata": {},
     "output_type": "execute_result"
    }
   ],
   "source": [
    "data_dir = path.join('../data/',organism) + '/raw_data'\n",
    "os.listdir(data_dir)"
   ]
  },
  {
   "cell_type": "code",
   "execution_count": 7,
   "metadata": {},
   "outputs": [],
   "source": [
    "#os.getcwd()"
   ]
  },
  {
   "cell_type": "markdown",
   "metadata": {},
   "source": [
    "<font size=\"4\">Enter name of curated metadata file here</font>"
   ]
  },
  {
   "cell_type": "code",
   "execution_count": 8,
   "metadata": {},
   "outputs": [],
   "source": [
    "metadata_file = 'Salmonella_enterica_' + organism + '.tsv'"
   ]
  },
  {
   "cell_type": "markdown",
   "metadata": {},
   "source": [
    "## Load expression data"
   ]
  },
  {
   "cell_type": "code",
   "execution_count": 9,
   "metadata": {},
   "outputs": [
    {
     "name": "stdout",
     "output_type": "stream",
     "text": [
      "Number of genes: 4554\n",
      "Number of samples: 113\n"
     ]
    }
   ],
   "source": [
    "DF_log_tpm = pd.read_csv(path.join(data_dir,'log_tpm.csv'),index_col=0).fillna(0)\n",
    "print('Number of genes:',DF_log_tpm.shape[0])\n",
    "print('Number of samples:',DF_log_tpm.shape[1])"
   ]
  },
  {
   "cell_type": "code",
   "execution_count": 10,
   "metadata": {
    "scrolled": false
   },
   "outputs": [
    {
     "data": {
      "text/html": [
       "<div>\n",
       "<style scoped>\n",
       "    .dataframe tbody tr th:only-of-type {\n",
       "        vertical-align: middle;\n",
       "    }\n",
       "\n",
       "    .dataframe tbody tr th {\n",
       "        vertical-align: top;\n",
       "    }\n",
       "\n",
       "    .dataframe thead th {\n",
       "        text-align: right;\n",
       "    }\n",
       "</style>\n",
       "<table border=\"1\" class=\"dataframe\">\n",
       "  <thead>\n",
       "    <tr style=\"text-align: right;\">\n",
       "      <th></th>\n",
       "      <th>ERX1409468</th>\n",
       "      <th>ERX1409469</th>\n",
       "      <th>ERX1409470</th>\n",
       "      <th>ERX1409471</th>\n",
       "      <th>ERX1409472</th>\n",
       "      <th>ERX1409473</th>\n",
       "      <th>ERX1409474</th>\n",
       "      <th>ERX1409475</th>\n",
       "      <th>ERX1409476</th>\n",
       "      <th>ERX1409477</th>\n",
       "      <th>...</th>\n",
       "      <th>SRX4341766</th>\n",
       "      <th>SRX4341767</th>\n",
       "      <th>SRX4341768</th>\n",
       "      <th>SRX4341769</th>\n",
       "      <th>SRX8914620</th>\n",
       "      <th>SRX8914621</th>\n",
       "      <th>SRX8914622</th>\n",
       "      <th>SRX8914623</th>\n",
       "      <th>SRX8914624</th>\n",
       "      <th>SRX8914625</th>\n",
       "    </tr>\n",
       "    <tr>\n",
       "      <th>Geneid</th>\n",
       "      <th></th>\n",
       "      <th></th>\n",
       "      <th></th>\n",
       "      <th></th>\n",
       "      <th></th>\n",
       "      <th></th>\n",
       "      <th></th>\n",
       "      <th></th>\n",
       "      <th></th>\n",
       "      <th></th>\n",
       "      <th></th>\n",
       "      <th></th>\n",
       "      <th></th>\n",
       "      <th></th>\n",
       "      <th></th>\n",
       "      <th></th>\n",
       "      <th></th>\n",
       "      <th></th>\n",
       "      <th></th>\n",
       "      <th></th>\n",
       "      <th></th>\n",
       "    </tr>\n",
       "  </thead>\n",
       "  <tbody>\n",
       "    <tr>\n",
       "      <th>PSLT001</th>\n",
       "      <td>8.244522</td>\n",
       "      <td>7.550140</td>\n",
       "      <td>8.191478</td>\n",
       "      <td>7.992268</td>\n",
       "      <td>7.526902</td>\n",
       "      <td>7.542992</td>\n",
       "      <td>7.717490</td>\n",
       "      <td>8.132286</td>\n",
       "      <td>7.923764</td>\n",
       "      <td>7.427443</td>\n",
       "      <td>...</td>\n",
       "      <td>6.393467</td>\n",
       "      <td>6.125093</td>\n",
       "      <td>6.347966</td>\n",
       "      <td>6.210854</td>\n",
       "      <td>4.330629</td>\n",
       "      <td>4.053761</td>\n",
       "      <td>4.336823</td>\n",
       "      <td>3.538775</td>\n",
       "      <td>4.363411</td>\n",
       "      <td>4.098365</td>\n",
       "    </tr>\n",
       "    <tr>\n",
       "      <th>PSLT002</th>\n",
       "      <td>7.767262</td>\n",
       "      <td>7.620667</td>\n",
       "      <td>8.108566</td>\n",
       "      <td>6.943723</td>\n",
       "      <td>6.122707</td>\n",
       "      <td>5.919670</td>\n",
       "      <td>6.930891</td>\n",
       "      <td>6.694182</td>\n",
       "      <td>7.162785</td>\n",
       "      <td>7.248391</td>\n",
       "      <td>...</td>\n",
       "      <td>4.968088</td>\n",
       "      <td>4.812163</td>\n",
       "      <td>4.778848</td>\n",
       "      <td>5.042502</td>\n",
       "      <td>4.305828</td>\n",
       "      <td>4.268186</td>\n",
       "      <td>4.359980</td>\n",
       "      <td>4.483070</td>\n",
       "      <td>4.377455</td>\n",
       "      <td>4.285936</td>\n",
       "    </tr>\n",
       "    <tr>\n",
       "      <th>PSLT003</th>\n",
       "      <td>9.457923</td>\n",
       "      <td>9.733397</td>\n",
       "      <td>9.517092</td>\n",
       "      <td>9.127689</td>\n",
       "      <td>9.240059</td>\n",
       "      <td>9.091436</td>\n",
       "      <td>10.038774</td>\n",
       "      <td>9.874871</td>\n",
       "      <td>10.128699</td>\n",
       "      <td>9.515133</td>\n",
       "      <td>...</td>\n",
       "      <td>10.287554</td>\n",
       "      <td>9.520894</td>\n",
       "      <td>9.345060</td>\n",
       "      <td>9.328639</td>\n",
       "      <td>8.470629</td>\n",
       "      <td>8.819859</td>\n",
       "      <td>8.595183</td>\n",
       "      <td>9.270612</td>\n",
       "      <td>8.206862</td>\n",
       "      <td>8.279569</td>\n",
       "    </tr>\n",
       "    <tr>\n",
       "      <th>PSLT004</th>\n",
       "      <td>8.827210</td>\n",
       "      <td>8.883315</td>\n",
       "      <td>8.636932</td>\n",
       "      <td>7.208681</td>\n",
       "      <td>5.186569</td>\n",
       "      <td>6.760904</td>\n",
       "      <td>7.195831</td>\n",
       "      <td>7.860234</td>\n",
       "      <td>7.140376</td>\n",
       "      <td>8.634975</td>\n",
       "      <td>...</td>\n",
       "      <td>6.318958</td>\n",
       "      <td>6.892671</td>\n",
       "      <td>6.592245</td>\n",
       "      <td>7.412044</td>\n",
       "      <td>7.676357</td>\n",
       "      <td>7.908094</td>\n",
       "      <td>7.742047</td>\n",
       "      <td>8.597085</td>\n",
       "      <td>7.652825</td>\n",
       "      <td>8.095490</td>\n",
       "    </tr>\n",
       "    <tr>\n",
       "      <th>PSLT005</th>\n",
       "      <td>8.610369</td>\n",
       "      <td>8.541247</td>\n",
       "      <td>6.979961</td>\n",
       "      <td>8.859117</td>\n",
       "      <td>8.392773</td>\n",
       "      <td>8.408902</td>\n",
       "      <td>7.849339</td>\n",
       "      <td>8.194131</td>\n",
       "      <td>6.221725</td>\n",
       "      <td>8.293061</td>\n",
       "      <td>...</td>\n",
       "      <td>8.128636</td>\n",
       "      <td>7.688094</td>\n",
       "      <td>7.435332</td>\n",
       "      <td>7.604691</td>\n",
       "      <td>8.469687</td>\n",
       "      <td>8.357033</td>\n",
       "      <td>8.440246</td>\n",
       "      <td>8.297336</td>\n",
       "      <td>8.331200</td>\n",
       "      <td>7.851712</td>\n",
       "    </tr>\n",
       "  </tbody>\n",
       "</table>\n",
       "<p>5 rows × 113 columns</p>\n",
       "</div>"
      ],
      "text/plain": [
       "         ERX1409468  ERX1409469  ERX1409470  ERX1409471  ERX1409472  \\\n",
       "Geneid                                                                \n",
       "PSLT001    8.244522    7.550140    8.191478    7.992268    7.526902   \n",
       "PSLT002    7.767262    7.620667    8.108566    6.943723    6.122707   \n",
       "PSLT003    9.457923    9.733397    9.517092    9.127689    9.240059   \n",
       "PSLT004    8.827210    8.883315    8.636932    7.208681    5.186569   \n",
       "PSLT005    8.610369    8.541247    6.979961    8.859117    8.392773   \n",
       "\n",
       "         ERX1409473  ERX1409474  ERX1409475  ERX1409476  ERX1409477  ...  \\\n",
       "Geneid                                                               ...   \n",
       "PSLT001    7.542992    7.717490    8.132286    7.923764    7.427443  ...   \n",
       "PSLT002    5.919670    6.930891    6.694182    7.162785    7.248391  ...   \n",
       "PSLT003    9.091436   10.038774    9.874871   10.128699    9.515133  ...   \n",
       "PSLT004    6.760904    7.195831    7.860234    7.140376    8.634975  ...   \n",
       "PSLT005    8.408902    7.849339    8.194131    6.221725    8.293061  ...   \n",
       "\n",
       "         SRX4341766  SRX4341767  SRX4341768  SRX4341769  SRX8914620  \\\n",
       "Geneid                                                                \n",
       "PSLT001    6.393467    6.125093    6.347966    6.210854    4.330629   \n",
       "PSLT002    4.968088    4.812163    4.778848    5.042502    4.305828   \n",
       "PSLT003   10.287554    9.520894    9.345060    9.328639    8.470629   \n",
       "PSLT004    6.318958    6.892671    6.592245    7.412044    7.676357   \n",
       "PSLT005    8.128636    7.688094    7.435332    7.604691    8.469687   \n",
       "\n",
       "         SRX8914621  SRX8914622  SRX8914623  SRX8914624  SRX8914625  \n",
       "Geneid                                                               \n",
       "PSLT001    4.053761    4.336823    3.538775    4.363411    4.098365  \n",
       "PSLT002    4.268186    4.359980    4.483070    4.377455    4.285936  \n",
       "PSLT003    8.819859    8.595183    9.270612    8.206862    8.279569  \n",
       "PSLT004    7.908094    7.742047    8.597085    7.652825    8.095490  \n",
       "PSLT005    8.357033    8.440246    8.297336    8.331200    7.851712  \n",
       "\n",
       "[5 rows x 113 columns]"
      ]
     },
     "execution_count": 10,
     "metadata": {},
     "output_type": "execute_result"
    }
   ],
   "source": [
    "#DF_log_tpm.fillna(0,inplace=True)\n",
    "DF_log_tpm.head()"
   ]
  },
  {
   "cell_type": "markdown",
   "metadata": {},
   "source": [
    "## Load QC data\n",
    "<font size=\"4\">There may be some datasets that failed along the processing pipeline, so the number of samples with QC data may be higher than the number of samples with expression data.</font>"
   ]
  },
  {
   "cell_type": "code",
   "execution_count": 11,
   "metadata": {},
   "outputs": [
    {
     "name": "stdout",
     "output_type": "stream",
     "text": [
      "Number of samples with QC data: 113\n"
     ]
    }
   ],
   "source": [
    "DF_qc_stats = pd.read_csv(path.join(data_dir,'multiqc_stats.tsv'),index_col=0, sep='\\t')\n",
    "print('Number of samples with QC data:',DF_qc_stats.shape[0])"
   ]
  },
  {
   "cell_type": "code",
   "execution_count": 12,
   "metadata": {},
   "outputs": [
    {
     "data": {
      "text/html": [
       "<div>\n",
       "<style scoped>\n",
       "    .dataframe tbody tr th:only-of-type {\n",
       "        vertical-align: middle;\n",
       "    }\n",
       "\n",
       "    .dataframe tbody tr th {\n",
       "        vertical-align: top;\n",
       "    }\n",
       "\n",
       "    .dataframe thead th {\n",
       "        text-align: right;\n",
       "    }\n",
       "</style>\n",
       "<table border=\"1\" class=\"dataframe\">\n",
       "  <thead>\n",
       "    <tr style=\"text-align: right;\">\n",
       "      <th></th>\n",
       "      <th>Total</th>\n",
       "      <th>Assigned</th>\n",
       "      <th>Unassigned_rRNA</th>\n",
       "      <th>Unassigned_Unmapped</th>\n",
       "      <th>Unassigned_Read_Type</th>\n",
       "      <th>Unassigned_Singleton</th>\n",
       "      <th>Unassigned_MappingQuality</th>\n",
       "      <th>Unassigned_Chimera</th>\n",
       "      <th>Unassigned_FragmentLength</th>\n",
       "      <th>Unassigned_Duplicate</th>\n",
       "      <th>...</th>\n",
       "      <th>r_written</th>\n",
       "      <th>bp_processed</th>\n",
       "      <th>quality_trimmed</th>\n",
       "      <th>bp_written</th>\n",
       "      <th>percent_trimmed</th>\n",
       "      <th>pe_sense</th>\n",
       "      <th>pe_antisense</th>\n",
       "      <th>failed</th>\n",
       "      <th>se_sense</th>\n",
       "      <th>se_antisense</th>\n",
       "    </tr>\n",
       "  </thead>\n",
       "  <tbody>\n",
       "    <tr>\n",
       "      <th>ERX1409468</th>\n",
       "      <td>6335391</td>\n",
       "      <td>170448</td>\n",
       "      <td>5667861</td>\n",
       "      <td>458589</td>\n",
       "      <td>0</td>\n",
       "      <td>0</td>\n",
       "      <td>0</td>\n",
       "      <td>0</td>\n",
       "      <td>6220</td>\n",
       "      <td>0</td>\n",
       "      <td>...</td>\n",
       "      <td>6423471</td>\n",
       "      <td>648770571</td>\n",
       "      <td>76671518</td>\n",
       "      <td>569364929</td>\n",
       "      <td>12.239403</td>\n",
       "      <td>0.3362</td>\n",
       "      <td>0.3147</td>\n",
       "      <td>0.3491</td>\n",
       "      <td>0.0</td>\n",
       "      <td>0.0</td>\n",
       "    </tr>\n",
       "    <tr>\n",
       "      <th>ERX1409469</th>\n",
       "      <td>6688885</td>\n",
       "      <td>178878</td>\n",
       "      <td>5969930</td>\n",
       "      <td>500076</td>\n",
       "      <td>0</td>\n",
       "      <td>0</td>\n",
       "      <td>0</td>\n",
       "      <td>0</td>\n",
       "      <td>6680</td>\n",
       "      <td>0</td>\n",
       "      <td>...</td>\n",
       "      <td>6778708</td>\n",
       "      <td>684649508</td>\n",
       "      <td>78997273</td>\n",
       "      <td>602645918</td>\n",
       "      <td>11.977455</td>\n",
       "      <td>0.3286</td>\n",
       "      <td>0.3347</td>\n",
       "      <td>0.3366</td>\n",
       "      <td>0.0</td>\n",
       "      <td>0.0</td>\n",
       "    </tr>\n",
       "    <tr>\n",
       "      <th>ERX1409470</th>\n",
       "      <td>6635037</td>\n",
       "      <td>176976</td>\n",
       "      <td>5899342</td>\n",
       "      <td>518784</td>\n",
       "      <td>0</td>\n",
       "      <td>0</td>\n",
       "      <td>0</td>\n",
       "      <td>0</td>\n",
       "      <td>6506</td>\n",
       "      <td>0</td>\n",
       "      <td>...</td>\n",
       "      <td>6741700</td>\n",
       "      <td>680911700</td>\n",
       "      <td>91553896</td>\n",
       "      <td>585910798</td>\n",
       "      <td>13.952015</td>\n",
       "      <td>0.3258</td>\n",
       "      <td>0.3260</td>\n",
       "      <td>0.3482</td>\n",
       "      <td>0.0</td>\n",
       "      <td>0.0</td>\n",
       "    </tr>\n",
       "    <tr>\n",
       "      <th>ERX1409471</th>\n",
       "      <td>6788963</td>\n",
       "      <td>174774</td>\n",
       "      <td>6087024</td>\n",
       "      <td>481709</td>\n",
       "      <td>0</td>\n",
       "      <td>0</td>\n",
       "      <td>0</td>\n",
       "      <td>0</td>\n",
       "      <td>5179</td>\n",
       "      <td>0</td>\n",
       "      <td>...</td>\n",
       "      <td>6886827</td>\n",
       "      <td>695569527</td>\n",
       "      <td>85633861</td>\n",
       "      <td>607218072</td>\n",
       "      <td>12.702031</td>\n",
       "      <td>0.2814</td>\n",
       "      <td>0.2928</td>\n",
       "      <td>0.4258</td>\n",
       "      <td>0.0</td>\n",
       "      <td>0.0</td>\n",
       "    </tr>\n",
       "    <tr>\n",
       "      <th>ERX1409472</th>\n",
       "      <td>7107019</td>\n",
       "      <td>181728</td>\n",
       "      <td>6358572</td>\n",
       "      <td>519293</td>\n",
       "      <td>0</td>\n",
       "      <td>0</td>\n",
       "      <td>0</td>\n",
       "      <td>0</td>\n",
       "      <td>5431</td>\n",
       "      <td>0</td>\n",
       "      <td>...</td>\n",
       "      <td>7204779</td>\n",
       "      <td>727682679</td>\n",
       "      <td>94843134</td>\n",
       "      <td>629251440</td>\n",
       "      <td>13.526671</td>\n",
       "      <td>0.2899</td>\n",
       "      <td>0.2847</td>\n",
       "      <td>0.4254</td>\n",
       "      <td>0.0</td>\n",
       "      <td>0.0</td>\n",
       "    </tr>\n",
       "  </tbody>\n",
       "</table>\n",
       "<p>5 rows × 54 columns</p>\n",
       "</div>"
      ],
      "text/plain": [
       "              Total  Assigned  Unassigned_rRNA  Unassigned_Unmapped  \\\n",
       "ERX1409468  6335391    170448          5667861               458589   \n",
       "ERX1409469  6688885    178878          5969930               500076   \n",
       "ERX1409470  6635037    176976          5899342               518784   \n",
       "ERX1409471  6788963    174774          6087024               481709   \n",
       "ERX1409472  7107019    181728          6358572               519293   \n",
       "\n",
       "            Unassigned_Read_Type  Unassigned_Singleton  \\\n",
       "ERX1409468                     0                     0   \n",
       "ERX1409469                     0                     0   \n",
       "ERX1409470                     0                     0   \n",
       "ERX1409471                     0                     0   \n",
       "ERX1409472                     0                     0   \n",
       "\n",
       "            Unassigned_MappingQuality  Unassigned_Chimera  \\\n",
       "ERX1409468                          0                   0   \n",
       "ERX1409469                          0                   0   \n",
       "ERX1409470                          0                   0   \n",
       "ERX1409471                          0                   0   \n",
       "ERX1409472                          0                   0   \n",
       "\n",
       "            Unassigned_FragmentLength  Unassigned_Duplicate  ...  r_written  \\\n",
       "ERX1409468                       6220                     0  ...    6423471   \n",
       "ERX1409469                       6680                     0  ...    6778708   \n",
       "ERX1409470                       6506                     0  ...    6741700   \n",
       "ERX1409471                       5179                     0  ...    6886827   \n",
       "ERX1409472                       5431                     0  ...    7204779   \n",
       "\n",
       "            bp_processed  quality_trimmed  bp_written  percent_trimmed  \\\n",
       "ERX1409468     648770571         76671518   569364929        12.239403   \n",
       "ERX1409469     684649508         78997273   602645918        11.977455   \n",
       "ERX1409470     680911700         91553896   585910798        13.952015   \n",
       "ERX1409471     695569527         85633861   607218072        12.702031   \n",
       "ERX1409472     727682679         94843134   629251440        13.526671   \n",
       "\n",
       "            pe_sense  pe_antisense  failed  se_sense  se_antisense  \n",
       "ERX1409468    0.3362        0.3147  0.3491       0.0           0.0  \n",
       "ERX1409469    0.3286        0.3347  0.3366       0.0           0.0  \n",
       "ERX1409470    0.3258        0.3260  0.3482       0.0           0.0  \n",
       "ERX1409471    0.2814        0.2928  0.4258       0.0           0.0  \n",
       "ERX1409472    0.2899        0.2847  0.4254       0.0           0.0  \n",
       "\n",
       "[5 rows x 54 columns]"
      ]
     },
     "execution_count": 12,
     "metadata": {},
     "output_type": "execute_result"
    }
   ],
   "source": [
    "DF_qc_stats.fillna(0,inplace=True)\n",
    "DF_qc_stats.head()"
   ]
  },
  {
   "cell_type": "markdown",
   "metadata": {},
   "source": [
    "## Load metadata"
   ]
  },
  {
   "cell_type": "code",
   "execution_count": 13,
   "metadata": {
    "scrolled": true
   },
   "outputs": [
    {
     "name": "stdout",
     "output_type": "stream",
     "text": [
      "Number of samples with metadata: 115\n"
     ]
    }
   ],
   "source": [
    "DF_metadata = pd.read_csv(path.join(data_dir,metadata_file),index_col=0,sep='\\t')\n",
    "print('Number of samples with metadata:',DF_metadata.shape[0])\n",
    "s = DF_metadata.shape[0]"
   ]
  },
  {
   "cell_type": "markdown",
   "metadata": {},
   "source": [
    "## Remove extra sample rows"
   ]
  },
  {
   "cell_type": "code",
   "execution_count": 14,
   "metadata": {},
   "outputs": [
    {
     "data": {
      "text/plain": [
       "113"
      ]
     },
     "execution_count": 14,
     "metadata": {},
     "output_type": "execute_result"
    }
   ],
   "source": [
    "len(set(DF_log_tpm.columns))"
   ]
  },
  {
   "cell_type": "code",
   "execution_count": 15,
   "metadata": {},
   "outputs": [],
   "source": [
    "# Ensure that metadata and qc_stats data contain all log_tpm sample information\n",
    "assert(set(DF_log_tpm.columns) - set(DF_metadata.index) == set())\n",
    "assert(set(DF_log_tpm.columns) - set(DF_qc_stats.index) == set())"
   ]
  },
  {
   "cell_type": "code",
   "execution_count": 16,
   "metadata": {},
   "outputs": [],
   "source": [
    "DF_metadata = DF_metadata.loc[DF_log_tpm.columns]\n",
    "DF_qc_stats = DF_qc_stats.loc[DF_log_tpm.columns]"
   ]
  },
  {
   "cell_type": "code",
   "execution_count": 17,
   "metadata": {},
   "outputs": [
    {
     "data": {
      "text/plain": [
       "(113, 55)"
      ]
     },
     "execution_count": 17,
     "metadata": {},
     "output_type": "execute_result"
    }
   ],
   "source": [
    "DF_metadata.shape"
   ]
  },
  {
   "cell_type": "markdown",
   "metadata": {},
   "source": [
    "# Check statistics"
   ]
  },
  {
   "cell_type": "markdown",
   "metadata": {},
   "source": [
    "<font size=\"4\">From here, create a new spreadsheet where you can flag samples based on various QC statistics</font>\n"
   ]
  },
  {
   "cell_type": "markdown",
   "metadata": {},
   "source": [
    "## FastQC stats"
   ]
  },
  {
   "cell_type": "code",
   "execution_count": 18,
   "metadata": {},
   "outputs": [],
   "source": [
    "fastqc_cols = ['per_base_sequence_quality',\n",
    "       'per_tile_sequence_quality', 'per_sequence_quality_scores',\n",
    "       'per_base_sequence_content', 'per_sequence_gc_content',\n",
    "       'per_base_n_content', 'sequence_length_distribution',\n",
    "       'sequence_duplication_levels', 'overrepresented_sequences',\n",
    "       'adapter_content']"
   ]
  },
  {
   "cell_type": "code",
   "execution_count": 19,
   "metadata": {},
   "outputs": [
    {
     "data": {
      "image/png": "[encoded data removed]",
      "text/plain": [
       "<Figure size 432x288 with 2 Axes>"
      ]
     },
     "metadata": {},
     "output_type": "display_data"
    }
   ],
   "source": [
    "DF_fastqc = DF_qc_stats[fastqc_cols]\n",
    "ax = sns.heatmap(DF_fastqc.replace('pass',1).replace('warn',0).replace('fail',-1),\n",
    "            cmap='RdYlBu',vmax=1.3,vmin=-1.3)\n",
    "cbar = ax.collections[0].colorbar\n",
    "cbar.set_ticks([-1,0,1])\n",
    "cbar.set_ticklabels(['fail','warn','pass'])"
   ]
  },
  {
   "cell_type": "markdown",
   "metadata": {},
   "source": [
    "<font size=\"4\">The following four categories are the most important:\n",
    "    - per_base_sequence_quality\n",
    "    - per_sequence_quality_scores\n",
    "    - per_base_n_content\n",
    "    - adapter_content\n",
    "    \n",
    "If a sample does not pass any of these four categories, discard the sample\n",
    "</font>"
   ]
  },
  {
   "cell_type": "code",
   "execution_count": 20,
   "metadata": {},
   "outputs": [],
   "source": [
    "fastqc_fail_cols = ['per_base_sequence_quality','per_sequence_quality_scores','per_base_n_content','adapter_content']"
   ]
  },
  {
   "cell_type": "code",
   "execution_count": 21,
   "metadata": {},
   "outputs": [
    {
     "data": {
      "text/html": [
       "<div>\n",
       "<style scoped>\n",
       "    .dataframe tbody tr th:only-of-type {\n",
       "        vertical-align: middle;\n",
       "    }\n",
       "\n",
       "    .dataframe tbody tr th {\n",
       "        vertical-align: top;\n",
       "    }\n",
       "\n",
       "    .dataframe thead th {\n",
       "        text-align: right;\n",
       "    }\n",
       "</style>\n",
       "<table border=\"1\" class=\"dataframe\">\n",
       "  <thead>\n",
       "    <tr style=\"text-align: right;\">\n",
       "      <th></th>\n",
       "      <th>per_base_sequence_quality</th>\n",
       "      <th>per_sequence_quality_scores</th>\n",
       "      <th>per_base_n_content</th>\n",
       "      <th>adapter_content</th>\n",
       "    </tr>\n",
       "  </thead>\n",
       "  <tbody>\n",
       "    <tr>\n",
       "      <th>SRX2598260</th>\n",
       "      <td>pass</td>\n",
       "      <td>pass</td>\n",
       "      <td>warn</td>\n",
       "      <td>pass</td>\n",
       "    </tr>\n",
       "    <tr>\n",
       "      <th>SRX2598262</th>\n",
       "      <td>pass</td>\n",
       "      <td>pass</td>\n",
       "      <td>warn</td>\n",
       "      <td>pass</td>\n",
       "    </tr>\n",
       "  </tbody>\n",
       "</table>\n",
       "</div>"
      ],
      "text/plain": [
       "           per_base_sequence_quality per_sequence_quality_scores  \\\n",
       "SRX2598260                      pass                        pass   \n",
       "SRX2598262                      pass                        pass   \n",
       "\n",
       "           per_base_n_content adapter_content  \n",
       "SRX2598260               warn            pass  \n",
       "SRX2598262               warn            pass  "
      ]
     },
     "execution_count": 21,
     "metadata": {},
     "output_type": "execute_result"
    }
   ],
   "source": [
    "DF_failed_fastqc = DF_fastqc[fastqc_fail_cols][(DF_fastqc[fastqc_fail_cols] != 'pass').any(axis=1)]\n",
    "DF_failed_fastqc[fastqc_fail_cols]"
   ]
  },
  {
   "cell_type": "markdown",
   "metadata": {},
   "source": [
    "<font size=\"4\">Mark samples as failed.</font>"
   ]
  },
  {
   "cell_type": "code",
   "execution_count": 22,
   "metadata": {},
   "outputs": [],
   "source": [
    "DF_metadata['passed_fastqc'] = ~DF_metadata.index.isin(DF_failed_fastqc.index)"
   ]
  },
  {
   "cell_type": "markdown",
   "metadata": {},
   "source": [
    "## Number of aligned reads"
   ]
  },
  {
   "cell_type": "markdown",
   "metadata": {},
   "source": [
    "<font size=\"4\">The following histogram shows how many reads map to coding sequences (i.e. mRNA). Too few aligned reads reduces the sensitivity of the resulting data.</font>"
   ]
  },
  {
   "cell_type": "code",
   "execution_count": 23,
   "metadata": {},
   "outputs": [
    {
     "data": {
      "text/plain": [
       "500000.0"
      ]
     },
     "execution_count": 23,
     "metadata": {},
     "output_type": "execute_result"
    }
   ],
   "source": [
    "min_mrna_reads"
   ]
  },
  {
   "cell_type": "code",
   "execution_count": 24,
   "metadata": {},
   "outputs": [
    {
     "data": {
      "text/plain": [
       "Text(0.5, 1.0, 'Number of reads mapped to CDS')"
      ]
     },
     "execution_count": 24,
     "metadata": {},
     "output_type": "execute_result"
    },
    {
     "data": {
      "image/png": "[encoded data removed]",
      "text/plain": [
       "<Figure size 432x288 with 1 Axes>"
      ]
     },
     "metadata": {},
     "output_type": "display_data"
    }
   ],
   "source": [
    "fig,ax = plt.subplots()\n",
    "ax.hist(DF_qc_stats['Assigned']/1e6,bins=50,alpha=0.8)\n",
    "ymin,ymax = ax.get_ylim()\n",
    "ax.vlines(min_mrna_reads/1e6,ymin,ymax,color='r')\n",
    "ax.set_ylim((ymin,ymax))\n",
    "ax.set_xlabel('# Reads (M)',fontsize=14)\n",
    "ax.set_ylabel('# Samples',fontsize=14)\n",
    "ax.set_title('Number of reads mapped to CDS',fontsize=16)"
   ]
  },
  {
   "cell_type": "markdown",
   "metadata": {},
   "source": [
    "<font size=\"4\">Identify samples with poor read depth:</font>"
   ]
  },
  {
   "cell_type": "code",
   "execution_count": 25,
   "metadata": {
    "scrolled": true
   },
   "outputs": [
    {
     "data": {
      "text/html": [
       "<div>\n",
       "<style scoped>\n",
       "    .dataframe tbody tr th:only-of-type {\n",
       "        vertical-align: middle;\n",
       "    }\n",
       "\n",
       "    .dataframe tbody tr th {\n",
       "        vertical-align: top;\n",
       "    }\n",
       "\n",
       "    .dataframe thead th {\n",
       "        text-align: right;\n",
       "    }\n",
       "</style>\n",
       "<table border=\"1\" class=\"dataframe\">\n",
       "  <thead>\n",
       "    <tr style=\"text-align: right;\">\n",
       "      <th></th>\n",
       "      <th>Total</th>\n",
       "      <th>Assigned</th>\n",
       "      <th>Unassigned_rRNA</th>\n",
       "      <th>Unassigned_Unmapped</th>\n",
       "      <th>Unassigned_Read_Type</th>\n",
       "      <th>Unassigned_Singleton</th>\n",
       "      <th>Unassigned_MappingQuality</th>\n",
       "      <th>Unassigned_Chimera</th>\n",
       "      <th>Unassigned_FragmentLength</th>\n",
       "      <th>Unassigned_Duplicate</th>\n",
       "      <th>...</th>\n",
       "      <th>r_written</th>\n",
       "      <th>bp_processed</th>\n",
       "      <th>quality_trimmed</th>\n",
       "      <th>bp_written</th>\n",
       "      <th>percent_trimmed</th>\n",
       "      <th>pe_sense</th>\n",
       "      <th>pe_antisense</th>\n",
       "      <th>failed</th>\n",
       "      <th>se_sense</th>\n",
       "      <th>se_antisense</th>\n",
       "    </tr>\n",
       "  </thead>\n",
       "  <tbody>\n",
       "    <tr>\n",
       "      <th>SRX3798516</th>\n",
       "      <td>17252607</td>\n",
       "      <td>18589</td>\n",
       "      <td>16387466</td>\n",
       "      <td>723286</td>\n",
       "      <td>0</td>\n",
       "      <td>0</td>\n",
       "      <td>0</td>\n",
       "      <td>0</td>\n",
       "      <td>44535</td>\n",
       "      <td>0</td>\n",
       "      <td>...</td>\n",
       "      <td>17289535</td>\n",
       "      <td>1377778820</td>\n",
       "      <td>2493376</td>\n",
       "      <td>1366655029</td>\n",
       "      <td>0.807371</td>\n",
       "      <td>0.1952</td>\n",
       "      <td>0.4623</td>\n",
       "      <td>0.3425</td>\n",
       "      <td>0.0000</td>\n",
       "      <td>0.0000</td>\n",
       "    </tr>\n",
       "    <tr>\n",
       "      <th>SRX3798515</th>\n",
       "      <td>21103150</td>\n",
       "      <td>31480</td>\n",
       "      <td>20032692</td>\n",
       "      <td>969018</td>\n",
       "      <td>0</td>\n",
       "      <td>0</td>\n",
       "      <td>0</td>\n",
       "      <td>0</td>\n",
       "      <td>63893</td>\n",
       "      <td>0</td>\n",
       "      <td>...</td>\n",
       "      <td>21157887</td>\n",
       "      <td>1686303543</td>\n",
       "      <td>3050447</td>\n",
       "      <td>1672418669</td>\n",
       "      <td>0.823391</td>\n",
       "      <td>0.2413</td>\n",
       "      <td>0.4000</td>\n",
       "      <td>0.3587</td>\n",
       "      <td>0.0000</td>\n",
       "      <td>0.0000</td>\n",
       "    </tr>\n",
       "    <tr>\n",
       "      <th>SRX3798494</th>\n",
       "      <td>26423598</td>\n",
       "      <td>36036</td>\n",
       "      <td>1854109</td>\n",
       "      <td>24514204</td>\n",
       "      <td>0</td>\n",
       "      <td>0</td>\n",
       "      <td>0</td>\n",
       "      <td>0</td>\n",
       "      <td>772</td>\n",
       "      <td>0</td>\n",
       "      <td>...</td>\n",
       "      <td>26655808</td>\n",
       "      <td>1999185600</td>\n",
       "      <td>19948773</td>\n",
       "      <td>1963082775</td>\n",
       "      <td>1.805877</td>\n",
       "      <td>0.1353</td>\n",
       "      <td>0.4523</td>\n",
       "      <td>0.4125</td>\n",
       "      <td>0.0000</td>\n",
       "      <td>0.0000</td>\n",
       "    </tr>\n",
       "    <tr>\n",
       "      <th>SRX3798496</th>\n",
       "      <td>30700762</td>\n",
       "      <td>71749</td>\n",
       "      <td>12610613</td>\n",
       "      <td>17813732</td>\n",
       "      <td>0</td>\n",
       "      <td>0</td>\n",
       "      <td>0</td>\n",
       "      <td>0</td>\n",
       "      <td>4571</td>\n",
       "      <td>0</td>\n",
       "      <td>...</td>\n",
       "      <td>30836535</td>\n",
       "      <td>2312740125</td>\n",
       "      <td>10221345</td>\n",
       "      <td>2279380719</td>\n",
       "      <td>1.442419</td>\n",
       "      <td>0.1505</td>\n",
       "      <td>0.4003</td>\n",
       "      <td>0.4493</td>\n",
       "      <td>0.0000</td>\n",
       "      <td>0.0000</td>\n",
       "    </tr>\n",
       "    <tr>\n",
       "      <th>SRX3798514</th>\n",
       "      <td>22917011</td>\n",
       "      <td>81529</td>\n",
       "      <td>21549643</td>\n",
       "      <td>1165395</td>\n",
       "      <td>0</td>\n",
       "      <td>0</td>\n",
       "      <td>0</td>\n",
       "      <td>0</td>\n",
       "      <td>106363</td>\n",
       "      <td>0</td>\n",
       "      <td>...</td>\n",
       "      <td>23002553</td>\n",
       "      <td>1833404770</td>\n",
       "      <td>3942984</td>\n",
       "      <td>1817786236</td>\n",
       "      <td>0.851887</td>\n",
       "      <td>0.2987</td>\n",
       "      <td>0.3606</td>\n",
       "      <td>0.3407</td>\n",
       "      <td>0.0000</td>\n",
       "      <td>0.0000</td>\n",
       "    </tr>\n",
       "    <tr>\n",
       "      <th>ERX1409484</th>\n",
       "      <td>10727477</td>\n",
       "      <td>107787</td>\n",
       "      <td>10473832</td>\n",
       "      <td>101776</td>\n",
       "      <td>0</td>\n",
       "      <td>0</td>\n",
       "      <td>0</td>\n",
       "      <td>0</td>\n",
       "      <td>0</td>\n",
       "      <td>0</td>\n",
       "      <td>...</td>\n",
       "      <td>15107140</td>\n",
       "      <td>543857040</td>\n",
       "      <td>155263390</td>\n",
       "      <td>384104906</td>\n",
       "      <td>29.373920</td>\n",
       "      <td>0.0000</td>\n",
       "      <td>0.0000</td>\n",
       "      <td>0.4790</td>\n",
       "      <td>0.2792</td>\n",
       "      <td>0.2418</td>\n",
       "    </tr>\n",
       "    <tr>\n",
       "      <th>ERX1409485</th>\n",
       "      <td>10893940</td>\n",
       "      <td>109151</td>\n",
       "      <td>10642876</td>\n",
       "      <td>97513</td>\n",
       "      <td>0</td>\n",
       "      <td>0</td>\n",
       "      <td>0</td>\n",
       "      <td>0</td>\n",
       "      <td>0</td>\n",
       "      <td>0</td>\n",
       "      <td>...</td>\n",
       "      <td>14826383</td>\n",
       "      <td>533749788</td>\n",
       "      <td>138948396</td>\n",
       "      <td>390287599</td>\n",
       "      <td>26.878173</td>\n",
       "      <td>0.0000</td>\n",
       "      <td>0.0000</td>\n",
       "      <td>0.4679</td>\n",
       "      <td>0.2946</td>\n",
       "      <td>0.2375</td>\n",
       "    </tr>\n",
       "    <tr>\n",
       "      <th>ERX1409483</th>\n",
       "      <td>10937078</td>\n",
       "      <td>109436</td>\n",
       "      <td>10682230</td>\n",
       "      <td>101033</td>\n",
       "      <td>0</td>\n",
       "      <td>0</td>\n",
       "      <td>0</td>\n",
       "      <td>0</td>\n",
       "      <td>0</td>\n",
       "      <td>0</td>\n",
       "      <td>...</td>\n",
       "      <td>14594950</td>\n",
       "      <td>525418200</td>\n",
       "      <td>129867904</td>\n",
       "      <td>391016658</td>\n",
       "      <td>25.579917</td>\n",
       "      <td>0.0000</td>\n",
       "      <td>0.0000</td>\n",
       "      <td>0.4832</td>\n",
       "      <td>0.2815</td>\n",
       "      <td>0.2353</td>\n",
       "    </tr>\n",
       "    <tr>\n",
       "      <th>SRX3798513</th>\n",
       "      <td>23452423</td>\n",
       "      <td>117531</td>\n",
       "      <td>13745078</td>\n",
       "      <td>9352269</td>\n",
       "      <td>0</td>\n",
       "      <td>0</td>\n",
       "      <td>0</td>\n",
       "      <td>0</td>\n",
       "      <td>24844</td>\n",
       "      <td>0</td>\n",
       "      <td>...</td>\n",
       "      <td>23526794</td>\n",
       "      <td>1870221219</td>\n",
       "      <td>12150738</td>\n",
       "      <td>1847346137</td>\n",
       "      <td>1.223122</td>\n",
       "      <td>0.1630</td>\n",
       "      <td>0.4316</td>\n",
       "      <td>0.4054</td>\n",
       "      <td>0.0000</td>\n",
       "      <td>0.0000</td>\n",
       "    </tr>\n",
       "    <tr>\n",
       "      <th>ERX1409481</th>\n",
       "      <td>10097108</td>\n",
       "      <td>118435</td>\n",
       "      <td>9842072</td>\n",
       "      <td>95685</td>\n",
       "      <td>0</td>\n",
       "      <td>0</td>\n",
       "      <td>0</td>\n",
       "      <td>0</td>\n",
       "      <td>0</td>\n",
       "      <td>0</td>\n",
       "      <td>...</td>\n",
       "      <td>14021382</td>\n",
       "      <td>504769752</td>\n",
       "      <td>138932650</td>\n",
       "      <td>361637563</td>\n",
       "      <td>28.355936</td>\n",
       "      <td>0.0000</td>\n",
       "      <td>0.0000</td>\n",
       "      <td>0.4348</td>\n",
       "      <td>0.3002</td>\n",
       "      <td>0.2651</td>\n",
       "    </tr>\n",
       "    <tr>\n",
       "      <th>ERX1409482</th>\n",
       "      <td>10275877</td>\n",
       "      <td>119608</td>\n",
       "      <td>10022176</td>\n",
       "      <td>92687</td>\n",
       "      <td>0</td>\n",
       "      <td>0</td>\n",
       "      <td>0</td>\n",
       "      <td>0</td>\n",
       "      <td>0</td>\n",
       "      <td>0</td>\n",
       "      <td>...</td>\n",
       "      <td>13747767</td>\n",
       "      <td>494919612</td>\n",
       "      <td>122489681</td>\n",
       "      <td>368206040</td>\n",
       "      <td>25.602859</td>\n",
       "      <td>0.0000</td>\n",
       "      <td>0.0000</td>\n",
       "      <td>0.4378</td>\n",
       "      <td>0.2974</td>\n",
       "      <td>0.2648</td>\n",
       "    </tr>\n",
       "    <tr>\n",
       "      <th>ERX1409480</th>\n",
       "      <td>10340359</td>\n",
       "      <td>120954</td>\n",
       "      <td>10083009</td>\n",
       "      <td>95141</td>\n",
       "      <td>0</td>\n",
       "      <td>0</td>\n",
       "      <td>0</td>\n",
       "      <td>0</td>\n",
       "      <td>0</td>\n",
       "      <td>0</td>\n",
       "      <td>...</td>\n",
       "      <td>13752171</td>\n",
       "      <td>495078156</td>\n",
       "      <td>121044514</td>\n",
       "      <td>369760080</td>\n",
       "      <td>25.312786</td>\n",
       "      <td>0.0000</td>\n",
       "      <td>0.0000</td>\n",
       "      <td>0.4414</td>\n",
       "      <td>0.3015</td>\n",
       "      <td>0.2571</td>\n",
       "    </tr>\n",
       "    <tr>\n",
       "      <th>SRX3798512</th>\n",
       "      <td>20558060</td>\n",
       "      <td>122358</td>\n",
       "      <td>18401591</td>\n",
       "      <td>1965989</td>\n",
       "      <td>0</td>\n",
       "      <td>0</td>\n",
       "      <td>0</td>\n",
       "      <td>0</td>\n",
       "      <td>42417</td>\n",
       "      <td>0</td>\n",
       "      <td>...</td>\n",
       "      <td>20614860</td>\n",
       "      <td>1639517038</td>\n",
       "      <td>9611901</td>\n",
       "      <td>1620539718</td>\n",
       "      <td>1.157495</td>\n",
       "      <td>0.2397</td>\n",
       "      <td>0.4437</td>\n",
       "      <td>0.3167</td>\n",
       "      <td>0.0000</td>\n",
       "      <td>0.0000</td>\n",
       "    </tr>\n",
       "    <tr>\n",
       "      <th>ERX1409477</th>\n",
       "      <td>7360355</td>\n",
       "      <td>140242</td>\n",
       "      <td>6685562</td>\n",
       "      <td>496935</td>\n",
       "      <td>0</td>\n",
       "      <td>0</td>\n",
       "      <td>0</td>\n",
       "      <td>0</td>\n",
       "      <td>6075</td>\n",
       "      <td>0</td>\n",
       "      <td>...</td>\n",
       "      <td>7468191</td>\n",
       "      <td>754287291</td>\n",
       "      <td>94829683</td>\n",
       "      <td>656193120</td>\n",
       "      <td>13.004882</td>\n",
       "      <td>0.2785</td>\n",
       "      <td>0.2714</td>\n",
       "      <td>0.4501</td>\n",
       "      <td>0.0000</td>\n",
       "      <td>0.0000</td>\n",
       "    </tr>\n",
       "    <tr>\n",
       "      <th>ERX1409479</th>\n",
       "      <td>7662221</td>\n",
       "      <td>144488</td>\n",
       "      <td>6915750</td>\n",
       "      <td>563415</td>\n",
       "      <td>0</td>\n",
       "      <td>0</td>\n",
       "      <td>0</td>\n",
       "      <td>0</td>\n",
       "      <td>5961</td>\n",
       "      <td>0</td>\n",
       "      <td>...</td>\n",
       "      <td>7792102</td>\n",
       "      <td>787002302</td>\n",
       "      <td>99973432</td>\n",
       "      <td>683573931</td>\n",
       "      <td>13.142067</td>\n",
       "      <td>0.2754</td>\n",
       "      <td>0.2637</td>\n",
       "      <td>0.4609</td>\n",
       "      <td>0.0000</td>\n",
       "      <td>0.0000</td>\n",
       "    </tr>\n",
       "    <tr>\n",
       "      <th>ERX1409474</th>\n",
       "      <td>6461695</td>\n",
       "      <td>144692</td>\n",
       "      <td>5861597</td>\n",
       "      <td>420363</td>\n",
       "      <td>0</td>\n",
       "      <td>0</td>\n",
       "      <td>0</td>\n",
       "      <td>0</td>\n",
       "      <td>5943</td>\n",
       "      <td>0</td>\n",
       "      <td>...</td>\n",
       "      <td>6556738</td>\n",
       "      <td>662230538</td>\n",
       "      <td>87675573</td>\n",
       "      <td>571416998</td>\n",
       "      <td>13.713282</td>\n",
       "      <td>0.2776</td>\n",
       "      <td>0.2701</td>\n",
       "      <td>0.4523</td>\n",
       "      <td>0.0000</td>\n",
       "      <td>0.0000</td>\n",
       "    </tr>\n",
       "    <tr>\n",
       "      <th>ERX1409478</th>\n",
       "      <td>7740365</td>\n",
       "      <td>146519</td>\n",
       "      <td>7013360</td>\n",
       "      <td>541209</td>\n",
       "      <td>0</td>\n",
       "      <td>0</td>\n",
       "      <td>0</td>\n",
       "      <td>0</td>\n",
       "      <td>6286</td>\n",
       "      <td>0</td>\n",
       "      <td>...</td>\n",
       "      <td>7849964</td>\n",
       "      <td>792846364</td>\n",
       "      <td>104907210</td>\n",
       "      <td>683692294</td>\n",
       "      <td>13.767367</td>\n",
       "      <td>0.2755</td>\n",
       "      <td>0.2656</td>\n",
       "      <td>0.4588</td>\n",
       "      <td>0.0000</td>\n",
       "      <td>0.0000</td>\n",
       "    </tr>\n",
       "    <tr>\n",
       "      <th>ERX1409476</th>\n",
       "      <td>6678915</td>\n",
       "      <td>149592</td>\n",
       "      <td>6040547</td>\n",
       "      <td>452312</td>\n",
       "      <td>0</td>\n",
       "      <td>0</td>\n",
       "      <td>0</td>\n",
       "      <td>0</td>\n",
       "      <td>6043</td>\n",
       "      <td>0</td>\n",
       "      <td>...</td>\n",
       "      <td>6787378</td>\n",
       "      <td>685525178</td>\n",
       "      <td>96297871</td>\n",
       "      <td>586023529</td>\n",
       "      <td>14.514660</td>\n",
       "      <td>0.2768</td>\n",
       "      <td>0.2961</td>\n",
       "      <td>0.4272</td>\n",
       "      <td>0.0000</td>\n",
       "      <td>0.0000</td>\n",
       "    </tr>\n",
       "    <tr>\n",
       "      <th>ERX1409475</th>\n",
       "      <td>6745605</td>\n",
       "      <td>151167</td>\n",
       "      <td>6118167</td>\n",
       "      <td>439470</td>\n",
       "      <td>0</td>\n",
       "      <td>0</td>\n",
       "      <td>0</td>\n",
       "      <td>0</td>\n",
       "      <td>6198</td>\n",
       "      <td>0</td>\n",
       "      <td>...</td>\n",
       "      <td>6841119</td>\n",
       "      <td>690953019</td>\n",
       "      <td>83342898</td>\n",
       "      <td>604910310</td>\n",
       "      <td>12.452758</td>\n",
       "      <td>0.2860</td>\n",
       "      <td>0.2636</td>\n",
       "      <td>0.4504</td>\n",
       "      <td>0.0000</td>\n",
       "      <td>0.0000</td>\n",
       "    </tr>\n",
       "    <tr>\n",
       "      <th>SRX3798498</th>\n",
       "      <td>23273010</td>\n",
       "      <td>154125</td>\n",
       "      <td>1541171</td>\n",
       "      <td>21451350</td>\n",
       "      <td>0</td>\n",
       "      <td>0</td>\n",
       "      <td>0</td>\n",
       "      <td>0</td>\n",
       "      <td>2933</td>\n",
       "      <td>0</td>\n",
       "      <td>...</td>\n",
       "      <td>23795191</td>\n",
       "      <td>1784639325</td>\n",
       "      <td>40688071</td>\n",
       "      <td>1725799213</td>\n",
       "      <td>3.297031</td>\n",
       "      <td>0.1966</td>\n",
       "      <td>0.5119</td>\n",
       "      <td>0.2915</td>\n",
       "      <td>0.0000</td>\n",
       "      <td>0.0000</td>\n",
       "    </tr>\n",
       "    <tr>\n",
       "      <th>ERX1409468</th>\n",
       "      <td>6335391</td>\n",
       "      <td>170448</td>\n",
       "      <td>5667861</td>\n",
       "      <td>458589</td>\n",
       "      <td>0</td>\n",
       "      <td>0</td>\n",
       "      <td>0</td>\n",
       "      <td>0</td>\n",
       "      <td>6220</td>\n",
       "      <td>0</td>\n",
       "      <td>...</td>\n",
       "      <td>6423471</td>\n",
       "      <td>648770571</td>\n",
       "      <td>76671518</td>\n",
       "      <td>569364929</td>\n",
       "      <td>12.239403</td>\n",
       "      <td>0.3362</td>\n",
       "      <td>0.3147</td>\n",
       "      <td>0.3491</td>\n",
       "      <td>0.0000</td>\n",
       "      <td>0.0000</td>\n",
       "    </tr>\n",
       "    <tr>\n",
       "      <th>ERX1409471</th>\n",
       "      <td>6788963</td>\n",
       "      <td>174774</td>\n",
       "      <td>6087024</td>\n",
       "      <td>481709</td>\n",
       "      <td>0</td>\n",
       "      <td>0</td>\n",
       "      <td>0</td>\n",
       "      <td>0</td>\n",
       "      <td>5179</td>\n",
       "      <td>0</td>\n",
       "      <td>...</td>\n",
       "      <td>6886827</td>\n",
       "      <td>695569527</td>\n",
       "      <td>85633861</td>\n",
       "      <td>607218072</td>\n",
       "      <td>12.702031</td>\n",
       "      <td>0.2814</td>\n",
       "      <td>0.2928</td>\n",
       "      <td>0.4258</td>\n",
       "      <td>0.0000</td>\n",
       "      <td>0.0000</td>\n",
       "    </tr>\n",
       "    <tr>\n",
       "      <th>ERX1409470</th>\n",
       "      <td>6635037</td>\n",
       "      <td>176976</td>\n",
       "      <td>5899342</td>\n",
       "      <td>518784</td>\n",
       "      <td>0</td>\n",
       "      <td>0</td>\n",
       "      <td>0</td>\n",
       "      <td>0</td>\n",
       "      <td>6506</td>\n",
       "      <td>0</td>\n",
       "      <td>...</td>\n",
       "      <td>6741700</td>\n",
       "      <td>680911700</td>\n",
       "      <td>91553896</td>\n",
       "      <td>585910798</td>\n",
       "      <td>13.952015</td>\n",
       "      <td>0.3258</td>\n",
       "      <td>0.3260</td>\n",
       "      <td>0.3482</td>\n",
       "      <td>0.0000</td>\n",
       "      <td>0.0000</td>\n",
       "    </tr>\n",
       "    <tr>\n",
       "      <th>ERX1409469</th>\n",
       "      <td>6688885</td>\n",
       "      <td>178878</td>\n",
       "      <td>5969930</td>\n",
       "      <td>500076</td>\n",
       "      <td>0</td>\n",
       "      <td>0</td>\n",
       "      <td>0</td>\n",
       "      <td>0</td>\n",
       "      <td>6680</td>\n",
       "      <td>0</td>\n",
       "      <td>...</td>\n",
       "      <td>6778708</td>\n",
       "      <td>684649508</td>\n",
       "      <td>78997273</td>\n",
       "      <td>602645918</td>\n",
       "      <td>11.977455</td>\n",
       "      <td>0.3286</td>\n",
       "      <td>0.3347</td>\n",
       "      <td>0.3366</td>\n",
       "      <td>0.0000</td>\n",
       "      <td>0.0000</td>\n",
       "    </tr>\n",
       "    <tr>\n",
       "      <th>ERX1409473</th>\n",
       "      <td>7045846</td>\n",
       "      <td>179996</td>\n",
       "      <td>6282181</td>\n",
       "      <td>536793</td>\n",
       "      <td>0</td>\n",
       "      <td>0</td>\n",
       "      <td>0</td>\n",
       "      <td>0</td>\n",
       "      <td>5253</td>\n",
       "      <td>0</td>\n",
       "      <td>...</td>\n",
       "      <td>7161898</td>\n",
       "      <td>723351698</td>\n",
       "      <td>99190968</td>\n",
       "      <td>620647027</td>\n",
       "      <td>14.198442</td>\n",
       "      <td>0.2698</td>\n",
       "      <td>0.2789</td>\n",
       "      <td>0.4513</td>\n",
       "      <td>0.0000</td>\n",
       "      <td>0.0000</td>\n",
       "    </tr>\n",
       "    <tr>\n",
       "      <th>ERX1409472</th>\n",
       "      <td>7107019</td>\n",
       "      <td>181728</td>\n",
       "      <td>6358572</td>\n",
       "      <td>519293</td>\n",
       "      <td>0</td>\n",
       "      <td>0</td>\n",
       "      <td>0</td>\n",
       "      <td>0</td>\n",
       "      <td>5431</td>\n",
       "      <td>0</td>\n",
       "      <td>...</td>\n",
       "      <td>7204779</td>\n",
       "      <td>727682679</td>\n",
       "      <td>94843134</td>\n",
       "      <td>629251440</td>\n",
       "      <td>13.526671</td>\n",
       "      <td>0.2899</td>\n",
       "      <td>0.2847</td>\n",
       "      <td>0.4254</td>\n",
       "      <td>0.0000</td>\n",
       "      <td>0.0000</td>\n",
       "    </tr>\n",
       "    <tr>\n",
       "      <th>SRX3798490</th>\n",
       "      <td>46382315</td>\n",
       "      <td>250527</td>\n",
       "      <td>39237884</td>\n",
       "      <td>6614757</td>\n",
       "      <td>0</td>\n",
       "      <td>0</td>\n",
       "      <td>0</td>\n",
       "      <td>0</td>\n",
       "      <td>32893</td>\n",
       "      <td>0</td>\n",
       "      <td>...</td>\n",
       "      <td>46730640</td>\n",
       "      <td>3504798000</td>\n",
       "      <td>36715442</td>\n",
       "      <td>3441868222</td>\n",
       "      <td>1.795532</td>\n",
       "      <td>0.2174</td>\n",
       "      <td>0.4844</td>\n",
       "      <td>0.2982</td>\n",
       "      <td>0.0000</td>\n",
       "      <td>0.0000</td>\n",
       "    </tr>\n",
       "    <tr>\n",
       "      <th>SRX3798511</th>\n",
       "      <td>20655341</td>\n",
       "      <td>267684</td>\n",
       "      <td>11194455</td>\n",
       "      <td>8852742</td>\n",
       "      <td>0</td>\n",
       "      <td>0</td>\n",
       "      <td>0</td>\n",
       "      <td>0</td>\n",
       "      <td>8323</td>\n",
       "      <td>0</td>\n",
       "      <td>...</td>\n",
       "      <td>20737128</td>\n",
       "      <td>1648500602</td>\n",
       "      <td>13897622</td>\n",
       "      <td>1624663235</td>\n",
       "      <td>1.446003</td>\n",
       "      <td>0.1962</td>\n",
       "      <td>0.4673</td>\n",
       "      <td>0.3365</td>\n",
       "      <td>0.0000</td>\n",
       "      <td>0.0000</td>\n",
       "    </tr>\n",
       "    <tr>\n",
       "      <th>SRX3798495</th>\n",
       "      <td>35487842</td>\n",
       "      <td>331776</td>\n",
       "      <td>13667843</td>\n",
       "      <td>20640687</td>\n",
       "      <td>0</td>\n",
       "      <td>0</td>\n",
       "      <td>0</td>\n",
       "      <td>0</td>\n",
       "      <td>4889</td>\n",
       "      <td>0</td>\n",
       "      <td>...</td>\n",
       "      <td>35985851</td>\n",
       "      <td>2698938825</td>\n",
       "      <td>13147085</td>\n",
       "      <td>2659920302</td>\n",
       "      <td>1.445699</td>\n",
       "      <td>0.3028</td>\n",
       "      <td>0.1832</td>\n",
       "      <td>0.5140</td>\n",
       "      <td>0.0000</td>\n",
       "      <td>0.0000</td>\n",
       "    </tr>\n",
       "    <tr>\n",
       "      <th>SRX3798493</th>\n",
       "      <td>31890155</td>\n",
       "      <td>432514</td>\n",
       "      <td>20289104</td>\n",
       "      <td>10997542</td>\n",
       "      <td>0</td>\n",
       "      <td>0</td>\n",
       "      <td>0</td>\n",
       "      <td>0</td>\n",
       "      <td>6139</td>\n",
       "      <td>0</td>\n",
       "      <td>...</td>\n",
       "      <td>32247858</td>\n",
       "      <td>2418589350</td>\n",
       "      <td>31624557</td>\n",
       "      <td>2366439684</td>\n",
       "      <td>2.156202</td>\n",
       "      <td>0.1517</td>\n",
       "      <td>0.4193</td>\n",
       "      <td>0.4289</td>\n",
       "      <td>0.0000</td>\n",
       "      <td>0.0000</td>\n",
       "    </tr>\n",
       "  </tbody>\n",
       "</table>\n",
       "<p>30 rows × 54 columns</p>\n",
       "</div>"
      ],
      "text/plain": [
       "               Total  Assigned  Unassigned_rRNA  Unassigned_Unmapped  \\\n",
       "SRX3798516  17252607     18589         16387466               723286   \n",
       "SRX3798515  21103150     31480         20032692               969018   \n",
       "SRX3798494  26423598     36036          1854109             24514204   \n",
       "SRX3798496  30700762     71749         12610613             17813732   \n",
       "SRX3798514  22917011     81529         21549643              1165395   \n",
       "ERX1409484  10727477    107787         10473832               101776   \n",
       "ERX1409485  10893940    109151         10642876                97513   \n",
       "ERX1409483  10937078    109436         10682230               101033   \n",
       "SRX3798513  23452423    117531         13745078              9352269   \n",
       "ERX1409481  10097108    118435          9842072                95685   \n",
       "ERX1409482  10275877    119608         10022176                92687   \n",
       "ERX1409480  10340359    120954         10083009                95141   \n",
       "SRX3798512  20558060    122358         18401591              1965989   \n",
       "ERX1409477   7360355    140242          6685562               496935   \n",
       "ERX1409479   7662221    144488          6915750               563415   \n",
       "ERX1409474   6461695    144692          5861597               420363   \n",
       "ERX1409478   7740365    146519          7013360               541209   \n",
       "ERX1409476   6678915    149592          6040547               452312   \n",
       "ERX1409475   6745605    151167          6118167               439470   \n",
       "SRX3798498  23273010    154125          1541171             21451350   \n",
       "ERX1409468   6335391    170448          5667861               458589   \n",
       "ERX1409471   6788963    174774          6087024               481709   \n",
       "ERX1409470   6635037    176976          5899342               518784   \n",
       "ERX1409469   6688885    178878          5969930               500076   \n",
       "ERX1409473   7045846    179996          6282181               536793   \n",
       "ERX1409472   7107019    181728          6358572               519293   \n",
       "SRX3798490  46382315    250527         39237884              6614757   \n",
       "SRX3798511  20655341    267684         11194455              8852742   \n",
       "SRX3798495  35487842    331776         13667843             20640687   \n",
       "SRX3798493  31890155    432514         20289104             10997542   \n",
       "\n",
       "            Unassigned_Read_Type  Unassigned_Singleton  \\\n",
       "SRX3798516                     0                     0   \n",
       "SRX3798515                     0                     0   \n",
       "SRX3798494                     0                     0   \n",
       "SRX3798496                     0                     0   \n",
       "SRX3798514                     0                     0   \n",
       "ERX1409484                     0                     0   \n",
       "ERX1409485                     0                     0   \n",
       "ERX1409483                     0                     0   \n",
       "SRX3798513                     0                     0   \n",
       "ERX1409481                     0                     0   \n",
       "ERX1409482                     0                     0   \n",
       "ERX1409480                     0                     0   \n",
       "SRX3798512                     0                     0   \n",
       "ERX1409477                     0                     0   \n",
       "ERX1409479                     0                     0   \n",
       "ERX1409474                     0                     0   \n",
       "ERX1409478                     0                     0   \n",
       "ERX1409476                     0                     0   \n",
       "ERX1409475                     0                     0   \n",
       "SRX3798498                     0                     0   \n",
       "ERX1409468                     0                     0   \n",
       "ERX1409471                     0                     0   \n",
       "ERX1409470                     0                     0   \n",
       "ERX1409469                     0                     0   \n",
       "ERX1409473                     0                     0   \n",
       "ERX1409472                     0                     0   \n",
       "SRX3798490                     0                     0   \n",
       "SRX3798511                     0                     0   \n",
       "SRX3798495                     0                     0   \n",
       "SRX3798493                     0                     0   \n",
       "\n",
       "            Unassigned_MappingQuality  Unassigned_Chimera  \\\n",
       "SRX3798516                          0                   0   \n",
       "SRX3798515                          0                   0   \n",
       "SRX3798494                          0                   0   \n",
       "SRX3798496                          0                   0   \n",
       "SRX3798514                          0                   0   \n",
       "ERX1409484                          0                   0   \n",
       "ERX1409485                          0                   0   \n",
       "ERX1409483                          0                   0   \n",
       "SRX3798513                          0                   0   \n",
       "ERX1409481                          0                   0   \n",
       "ERX1409482                          0                   0   \n",
       "ERX1409480                          0                   0   \n",
       "SRX3798512                          0                   0   \n",
       "ERX1409477                          0                   0   \n",
       "ERX1409479                          0                   0   \n",
       "ERX1409474                          0                   0   \n",
       "ERX1409478                          0                   0   \n",
       "ERX1409476                          0                   0   \n",
       "ERX1409475                          0                   0   \n",
       "SRX3798498                          0                   0   \n",
       "ERX1409468                          0                   0   \n",
       "ERX1409471                          0                   0   \n",
       "ERX1409470                          0                   0   \n",
       "ERX1409469                          0                   0   \n",
       "ERX1409473                          0                   0   \n",
       "ERX1409472                          0                   0   \n",
       "SRX3798490                          0                   0   \n",
       "SRX3798511                          0                   0   \n",
       "SRX3798495                          0                   0   \n",
       "SRX3798493                          0                   0   \n",
       "\n",
       "            Unassigned_FragmentLength  Unassigned_Duplicate  ...  r_written  \\\n",
       "SRX3798516                      44535                     0  ...   17289535   \n",
       "SRX3798515                      63893                     0  ...   21157887   \n",
       "SRX3798494                        772                     0  ...   26655808   \n",
       "SRX3798496                       4571                     0  ...   30836535   \n",
       "SRX3798514                     106363                     0  ...   23002553   \n",
       "ERX1409484                          0                     0  ...   15107140   \n",
       "ERX1409485                          0                     0  ...   14826383   \n",
       "ERX1409483                          0                     0  ...   14594950   \n",
       "SRX3798513                      24844                     0  ...   23526794   \n",
       "ERX1409481                          0                     0  ...   14021382   \n",
       "ERX1409482                          0                     0  ...   13747767   \n",
       "ERX1409480                          0                     0  ...   13752171   \n",
       "SRX3798512                      42417                     0  ...   20614860   \n",
       "ERX1409477                       6075                     0  ...    7468191   \n",
       "ERX1409479                       5961                     0  ...    7792102   \n",
       "ERX1409474                       5943                     0  ...    6556738   \n",
       "ERX1409478                       6286                     0  ...    7849964   \n",
       "ERX1409476                       6043                     0  ...    6787378   \n",
       "ERX1409475                       6198                     0  ...    6841119   \n",
       "SRX3798498                       2933                     0  ...   23795191   \n",
       "ERX1409468                       6220                     0  ...    6423471   \n",
       "ERX1409471                       5179                     0  ...    6886827   \n",
       "ERX1409470                       6506                     0  ...    6741700   \n",
       "ERX1409469                       6680                     0  ...    6778708   \n",
       "ERX1409473                       5253                     0  ...    7161898   \n",
       "ERX1409472                       5431                     0  ...    7204779   \n",
       "SRX3798490                      32893                     0  ...   46730640   \n",
       "SRX3798511                       8323                     0  ...   20737128   \n",
       "SRX3798495                       4889                     0  ...   35985851   \n",
       "SRX3798493                       6139                     0  ...   32247858   \n",
       "\n",
       "            bp_processed  quality_trimmed  bp_written  percent_trimmed  \\\n",
       "SRX3798516    1377778820          2493376  1366655029         0.807371   \n",
       "SRX3798515    1686303543          3050447  1672418669         0.823391   \n",
       "SRX3798494    1999185600         19948773  1963082775         1.805877   \n",
       "SRX3798496    2312740125         10221345  2279380719         1.442419   \n",
       "SRX3798514    1833404770          3942984  1817786236         0.851887   \n",
       "ERX1409484     543857040        155263390   384104906        29.373920   \n",
       "ERX1409485     533749788        138948396   390287599        26.878173   \n",
       "ERX1409483     525418200        129867904   391016658        25.579917   \n",
       "SRX3798513    1870221219         12150738  1847346137         1.223122   \n",
       "ERX1409481     504769752        138932650   361637563        28.355936   \n",
       "ERX1409482     494919612        122489681   368206040        25.602859   \n",
       "ERX1409480     495078156        121044514   369760080        25.312786   \n",
       "SRX3798512    1639517038          9611901  1620539718         1.157495   \n",
       "ERX1409477     754287291         94829683   656193120        13.004882   \n",
       "ERX1409479     787002302         99973432   683573931        13.142067   \n",
       "ERX1409474     662230538         87675573   571416998        13.713282   \n",
       "ERX1409478     792846364        104907210   683692294        13.767367   \n",
       "ERX1409476     685525178         96297871   586023529        14.514660   \n",
       "ERX1409475     690953019         83342898   604910310        12.452758   \n",
       "SRX3798498    1784639325         40688071  1725799213         3.297031   \n",
       "ERX1409468     648770571         76671518   569364929        12.239403   \n",
       "ERX1409471     695569527         85633861   607218072        12.702031   \n",
       "ERX1409470     680911700         91553896   585910798        13.952015   \n",
       "ERX1409469     684649508         78997273   602645918        11.977455   \n",
       "ERX1409473     723351698         99190968   620647027        14.198442   \n",
       "ERX1409472     727682679         94843134   629251440        13.526671   \n",
       "SRX3798490    3504798000         36715442  3441868222         1.795532   \n",
       "SRX3798511    1648500602         13897622  1624663235         1.446003   \n",
       "SRX3798495    2698938825         13147085  2659920302         1.445699   \n",
       "SRX3798493    2418589350         31624557  2366439684         2.156202   \n",
       "\n",
       "            pe_sense  pe_antisense  failed  se_sense  se_antisense  \n",
       "SRX3798516    0.1952        0.4623  0.3425    0.0000        0.0000  \n",
       "SRX3798515    0.2413        0.4000  0.3587    0.0000        0.0000  \n",
       "SRX3798494    0.1353        0.4523  0.4125    0.0000        0.0000  \n",
       "SRX3798496    0.1505        0.4003  0.4493    0.0000        0.0000  \n",
       "SRX3798514    0.2987        0.3606  0.3407    0.0000        0.0000  \n",
       "ERX1409484    0.0000        0.0000  0.4790    0.2792        0.2418  \n",
       "ERX1409485    0.0000        0.0000  0.4679    0.2946        0.2375  \n",
       "ERX1409483    0.0000        0.0000  0.4832    0.2815        0.2353  \n",
       "SRX3798513    0.1630        0.4316  0.4054    0.0000        0.0000  \n",
       "ERX1409481    0.0000        0.0000  0.4348    0.3002        0.2651  \n",
       "ERX1409482    0.0000        0.0000  0.4378    0.2974        0.2648  \n",
       "ERX1409480    0.0000        0.0000  0.4414    0.3015        0.2571  \n",
       "SRX3798512    0.2397        0.4437  0.3167    0.0000        0.0000  \n",
       "ERX1409477    0.2785        0.2714  0.4501    0.0000        0.0000  \n",
       "ERX1409479    0.2754        0.2637  0.4609    0.0000        0.0000  \n",
       "ERX1409474    0.2776        0.2701  0.4523    0.0000        0.0000  \n",
       "ERX1409478    0.2755        0.2656  0.4588    0.0000        0.0000  \n",
       "ERX1409476    0.2768        0.2961  0.4272    0.0000        0.0000  \n",
       "ERX1409475    0.2860        0.2636  0.4504    0.0000        0.0000  \n",
       "SRX3798498    0.1966        0.5119  0.2915    0.0000        0.0000  \n",
       "ERX1409468    0.3362        0.3147  0.3491    0.0000        0.0000  \n",
       "ERX1409471    0.2814        0.2928  0.4258    0.0000        0.0000  \n",
       "ERX1409470    0.3258        0.3260  0.3482    0.0000        0.0000  \n",
       "ERX1409469    0.3286        0.3347  0.3366    0.0000        0.0000  \n",
       "ERX1409473    0.2698        0.2789  0.4513    0.0000        0.0000  \n",
       "ERX1409472    0.2899        0.2847  0.4254    0.0000        0.0000  \n",
       "SRX3798490    0.2174        0.4844  0.2982    0.0000        0.0000  \n",
       "SRX3798511    0.1962        0.4673  0.3365    0.0000        0.0000  \n",
       "SRX3798495    0.3028        0.1832  0.5140    0.0000        0.0000  \n",
       "SRX3798493    0.1517        0.4193  0.4289    0.0000        0.0000  \n",
       "\n",
       "[30 rows x 54 columns]"
      ]
     },
     "execution_count": 25,
     "metadata": {},
     "output_type": "execute_result"
    }
   ],
   "source": [
    "DF_failed_mrna = DF_qc_stats[DF_qc_stats['Assigned'] < min_mrna_reads].sort_values('Assigned')\n",
    "DF_failed_mrna"
   ]
  },
  {
   "cell_type": "markdown",
   "metadata": {},
   "source": [
    "<font size=\"4\">Mark samples as failed.</font>"
   ]
  },
  {
   "cell_type": "code",
   "execution_count": 26,
   "metadata": {},
   "outputs": [],
   "source": [
    "DF_metadata['passed_reads_mapped_to_CDS'] = ~DF_metadata.index.isin(DF_failed_mrna.index)"
   ]
  },
  {
   "cell_type": "markdown",
   "metadata": {},
   "source": [
    "# Examine Global Correlations"
   ]
  },
  {
   "cell_type": "markdown",
   "metadata": {},
   "source": [
    "## Hierarchical Clustering"
   ]
  },
  {
   "cell_type": "markdown",
   "metadata": {},
   "source": [
    "<font size=4> A clustermap is a great way to visualize the global correlations between one sample and all others. The following code uses hierarchical clustering to identify specific clusters in the clustermap <font size=4>\n",
    "    \n",
    "<font size=4> To increase the number of clusters, decrease the value of `thresh`. To decrease the number of clusters, increase the value of `thresh` <font size=4>"
   ]
  },
  {
   "cell_type": "code",
   "execution_count": 27,
   "metadata": {},
   "outputs": [
    {
     "name": "stdout",
     "output_type": "stream",
     "text": [
      "Number of cluster:  6\n"
     ]
    }
   ],
   "source": [
    "import scipy.cluster.hierarchy as sch\n",
    "import matplotlib.patches as patches\n",
    "# change this to get different number of clusters\n",
    "thresh = .3\n",
    "\n",
    "# retrieve clusters using fcluster \n",
    "corr = DF_log_tpm.corr()\n",
    "corr.fillna(0,inplace=True)\n",
    "dist = sch.distance.pdist(corr)\n",
    "link = sch.linkage(dist, method='complete')\n",
    "clst = pd.DataFrame(index=DF_log_tpm.columns)\n",
    "clst['cluster'] = sch.fcluster(link, thresh * dist.max(), 'distance')\n",
    "\n",
    "#get colors for each cluster\n",
    "cm = plt.cm.get_cmap('tab20')\n",
    "clr = dict(zip(clst.cluster.unique(), cm.colors))\n",
    "clst['color'] = clst.cluster.map(clr)\n",
    "\n",
    "print('Number of cluster: ', len(clr))"
   ]
  },
  {
   "cell_type": "markdown",
   "metadata": {},
   "source": [
    "<font size=\"4\">To view sample IDs in the clustermap, set `xticklabels` and `yticklabels` to `True`. You can increase the `size` variable to improve readability of sample IDs<font>"
   ]
  },
  {
   "cell_type": "code",
   "execution_count": 28,
   "metadata": {},
   "outputs": [
    {
     "data": {
      "image/png": "[encoded data removed]",
      "text/plain": [
       "<Figure size 648x648 with 5 Axes>"
      ]
     },
     "metadata": {},
     "output_type": "display_data"
    }
   ],
   "source": [
    "size = 9\n",
    "\n",
    "legend_TN = [patches.Patch(color=c, label=l) for l,c in clr.items()]\n",
    "\n",
    "sns.set(rc={'figure.facecolor':'white'})\n",
    "g = sns.clustermap(DF_log_tpm.corr(), figsize=(size,size), \n",
    "                   row_linkage=link, col_linkage=link, col_colors=clst.color,\n",
    "                  yticklabels=False, xticklabels=False,vmin=0,vmax=1)\n",
    "\n",
    "l2=g.ax_heatmap.legend(loc='upper left', bbox_to_anchor=(1.01,0.85), handles=legend_TN,frameon=True)\n",
    "l2.set_title(title='Clusters',prop={'size':10})"
   ]
  },
  {
   "cell_type": "markdown",
   "metadata": {},
   "source": [
    "<font size=\"4\">Select clusters to remove.</font>"
   ]
  },
  {
   "cell_type": "code",
   "execution_count": 29,
   "metadata": {},
   "outputs": [],
   "source": [
    "#indicate which clusters you want to remove\n",
    "\n",
    "# LT2: clusters 1,6\n",
    "# UK-1: None\n",
    "# D23580: cluster 6\n",
    "# SL1344: clusters 1,2,3\n",
    "# ST4/74: clusters 4,5,6\n",
    "# 14028S: clusters 1,2\n",
    "\n",
    "remove_clst = [1,6]\n",
    "failed_global_corr = clst[clst.cluster.isin(remove_clst)].index"
   ]
  },
  {
   "cell_type": "code",
   "execution_count": 30,
   "metadata": {},
   "outputs": [],
   "source": [
    "DF_metadata['passed_global_correlation'] = ~DF_metadata.index.isin(failed_global_corr)"
   ]
  },
  {
   "cell_type": "code",
   "execution_count": 31,
   "metadata": {},
   "outputs": [
    {
     "data": {
      "text/plain": [
       "6"
      ]
     },
     "execution_count": 31,
     "metadata": {},
     "output_type": "execute_result"
    }
   ],
   "source": [
    "len(failed_global_corr)"
   ]
  },
  {
   "cell_type": "code",
   "execution_count": 32,
   "metadata": {},
   "outputs": [
    {
     "data": {
      "text/plain": [
       "array(['PRJNA377210', 'PRJNA438234'], dtype=object)"
      ]
     },
     "execution_count": 32,
     "metadata": {},
     "output_type": "execute_result"
    }
   ],
   "source": [
    "np.unique(DF_metadata.loc[failed_global_corr].BioProject)"
   ]
  },
  {
   "cell_type": "markdown",
   "metadata": {},
   "source": [
    "# Remove failed samples"
   ]
  },
  {
   "cell_type": "code",
   "execution_count": 33,
   "metadata": {},
   "outputs": [],
   "source": [
    "qc_columns = ['passed_fastqc',\n",
    "              'passed_reads_mapped_to_CDS',\n",
    "              'passed_global_correlation']"
   ]
  },
  {
   "cell_type": "code",
   "execution_count": 34,
   "metadata": {},
   "outputs": [],
   "source": [
    "pass_qc = DF_metadata[qc_columns].all(axis=1)\n",
    "DF_metadata_passed = DF_metadata[pass_qc]"
   ]
  },
  {
   "cell_type": "code",
   "execution_count": 35,
   "metadata": {
    "scrolled": true
   },
   "outputs": [
    {
     "data": {
      "image/png": "[encoded data removed]",
      "text/plain": [
       "<Figure size 432x288 with 1 Axes>"
      ]
     },
     "metadata": {},
     "output_type": "display_data"
    }
   ],
   "source": [
    "_,_,pcts = plt.pie(pass_qc.value_counts().sort_values(),\n",
    "        labels = ['Failed','Passed'],\n",
    "        colors=['tab:red','tab:blue'],\n",
    "        autopct='%.0f%%',textprops={'size':16});\n",
    "\n",
    "# Colors percents white\n",
    "for pct in pcts:\n",
    "    pct.set_color('white')"
   ]
  },
  {
   "cell_type": "code",
   "execution_count": 36,
   "metadata": {},
   "outputs": [
    {
     "data": {
      "text/plain": [
       "(78, 58)"
      ]
     },
     "execution_count": 36,
     "metadata": {},
     "output_type": "execute_result"
    }
   ],
   "source": [
    "DF_metadata_passed.shape"
   ]
  },
  {
   "cell_type": "markdown",
   "metadata": {},
   "source": [
    "# Metadata Curation"
   ]
  },
  {
   "cell_type": "markdown",
   "metadata": {},
   "source": [
    "<font size=4>The following sections can only be run after metadata curation is complete. To enable metadata curation, the code in this section sorts data by BioProject. </font>"
   ]
  },
  {
   "cell_type": "markdown",
   "metadata": {},
   "source": [
    "## BioProject counts of passing metadata"
   ]
  },
  {
   "cell_type": "code",
   "execution_count": 37,
   "metadata": {
    "scrolled": true
   },
   "outputs": [
    {
     "data": {
      "text/plain": [
       "PRJNA438234    15\n",
       "PRJNA479732     9\n",
       "PRJNA296349     9\n",
       "PRJEB34015      9\n",
       "PRJNA344783     8\n",
       "PRJNA400327     8\n",
       "PRJNA194147     8\n",
       "PRJNA656165     6\n",
       "PRJEB33612      6\n",
       "Name: BioProject, dtype: int64"
      ]
     },
     "execution_count": 37,
     "metadata": {},
     "output_type": "execute_result"
    }
   ],
   "source": [
    "DF_metadata_passed.BioProject.value_counts().sort_values(ascending=False)"
   ]
  },
  {
   "cell_type": "markdown",
   "metadata": {},
   "source": [
    "## BioProject counts of all metadata"
   ]
  },
  {
   "cell_type": "code",
   "execution_count": 38,
   "metadata": {},
   "outputs": [],
   "source": [
    "#DF_metadata.BioProject.value_counts().sort_values(ascending=False)"
   ]
  },
  {
   "cell_type": "markdown",
   "metadata": {},
   "source": [
    "# Correlations between replicates"
   ]
  },
  {
   "cell_type": "markdown",
   "metadata": {},
   "source": [
    "<font size=4> First, get a full sample name </font>"
   ]
  },
  {
   "cell_type": "code",
   "execution_count": 39,
   "metadata": {},
   "outputs": [],
   "source": [
    "# Turn off pesky warning\n",
    "pd.set_option('mode.chained_assignment', None)"
   ]
  },
  {
   "cell_type": "code",
   "execution_count": 40,
   "metadata": {},
   "outputs": [],
   "source": [
    "DF_metadata_passed['full_name'] = DF_metadata_passed.loc[:,'project_name'].str.cat(DF_metadata_passed.loc[:,'condition_name'],sep=':')"
   ]
  },
  {
   "cell_type": "markdown",
   "metadata": {},
   "source": [
    "## Compute Pearson R Score"
   ]
  },
  {
   "cell_type": "markdown",
   "metadata": {},
   "source": [
    "<font size=\"4\">Once you have updated your metadata files with the sample information, we can investigate correlations between biological replicates. We require biological replicates to have a Pearson R correlation above 0.95. For samples with more than 2 replicates, the replicates must have R >= 0.95 with at least one other replicate or it will be dropped. </font>"
   ]
  },
  {
   "cell_type": "code",
   "execution_count": 41,
   "metadata": {},
   "outputs": [],
   "source": [
    "from tqdm.notebook import tqdm\n",
    "import itertools\n",
    "from scipy import stats\n",
    "import numpy as np"
   ]
  },
  {
   "cell_type": "code",
   "execution_count": 42,
   "metadata": {},
   "outputs": [
    {
     "data": {
      "application/vnd.jupyter.widget-view+json": {
       "model_id": "34ca429298ff44d98fdef9a52025da1f",
       "version_major": 2,
       "version_minor": 0
      },
      "text/plain": [
       "HBox(children=(HTML(value=''), FloatProgress(value=0.0, max=3003.0), HTML(value='')))"
      ]
     },
     "metadata": {},
     "output_type": "display_data"
    },
    {
     "name": "stdout",
     "output_type": "stream",
     "text": [
      "\n"
     ]
    }
   ],
   "source": [
    "rep_corrs = {}\n",
    "rand_corrs = {}\n",
    "\n",
    "num_comparisons = len(DF_metadata_passed)*(len(DF_metadata_passed)-1)/2\n",
    "for exp1,exp2 in tqdm(itertools.combinations(DF_metadata_passed.index,2),total=num_comparisons):\n",
    "    if DF_metadata_passed.loc[exp1,'full_name'] == DF_metadata_passed.loc[exp2,'full_name']:\n",
    "        rep_corrs[(exp1,exp2)] = stats.pearsonr(DF_log_tpm[exp1],DF_log_tpm[exp2])[0]\n",
    "    else:\n",
    "        rand_corrs[(exp1,exp2)] = stats.pearsonr(DF_log_tpm[exp1],DF_log_tpm[exp2])[0]"
   ]
  },
  {
   "cell_type": "code",
   "execution_count": 43,
   "metadata": {},
   "outputs": [],
   "source": [
    "sns.set_style('ticks')"
   ]
  },
  {
   "cell_type": "code",
   "execution_count": 44,
   "metadata": {
    "scrolled": false
   },
   "outputs": [
    {
     "name": "stdout",
     "output_type": "stream",
     "text": [
      "Median Pearson R between replicates: 0.99\n"
     ]
    },
    {
     "data": {
      "image/png": "[encoded data removed]",
      "text/plain": [
       "<Figure size 360x360 with 2 Axes>"
      ]
     },
     "metadata": {},
     "output_type": "display_data"
    }
   ],
   "source": [
    "fig,ax = plt.subplots(figsize=(5,5))\n",
    "ax2 = ax.twinx()\n",
    "ax2.hist(rep_corrs.values(),bins=50,range=(0.2,1),alpha=0.8,color='green',linewidth=0)\n",
    "ax.hist(rand_corrs.values(),bins=50,range=(0.2,1),alpha=0.8,color='blue',linewidth=0)\n",
    "ax.set_title('Pearson R correlation between experiments',fontsize=14)\n",
    "ax.set_xlabel('Pearson R correlation',fontsize=14)\n",
    "ax.set_ylabel('Different Conditions',fontsize=14)\n",
    "ax2.set_ylabel('Known Replicates',fontsize=14)\n",
    "\n",
    "med_corr = np.median([v for k,v in rep_corrs.items()])\n",
    "print('Median Pearson R between replicates: {:.2f}'.format(med_corr))"
   ]
  },
  {
   "cell_type": "code",
   "execution_count": 45,
   "metadata": {},
   "outputs": [],
   "source": [
    "#pearson r cutoff for replicates\n",
    "rcutoff = 0.95\n",
    "\n",
    "#for each sample get max correlation between replicates\n",
    "dissimilar = []\n",
    "for idx, grp in DF_metadata_passed.groupby('full_name'):\n",
    "    ident = np.identity(len(grp))\n",
    "    corrs = (DF_log_tpm[grp.index].corr() - ident).max()\n",
    "    dissimilar.extend(corrs[corrs<rcutoff].index)\n",
    "#DF_metadata['passed_replicate_corr'] = ~DF_metadata.index.isin(dissimilar)\n",
    "DF_metadata_passed['passed_similar_replicates'] = ~DF_metadata_passed.index.isin(dissimilar)"
   ]
  },
  {
   "cell_type": "code",
   "execution_count": 46,
   "metadata": {},
   "outputs": [
    {
     "data": {
      "text/plain": [
       "17"
      ]
     },
     "execution_count": 46,
     "metadata": {},
     "output_type": "execute_result"
    }
   ],
   "source": [
    "len(dissimilar)"
   ]
  },
  {
   "cell_type": "markdown",
   "metadata": {},
   "source": [
    "## Drop Samples with no replicates"
   ]
  },
  {
   "cell_type": "code",
   "execution_count": 47,
   "metadata": {},
   "outputs": [
    {
     "data": {
      "text/plain": [
       "Index(['Rockhopper:sgrs_treated', 'Rockhopper:sgrs_sgrt',\n",
       "       'Rockhopper:WT_treated', 'nusG:del_nusG_OD05',\n",
       "       'Rockhopper:deltasgrs_treated', 'Rockhopper:deltasgrs',\n",
       "       'Rockhopper:sgrs_sgrt_treated', 'nusG:WT_OD05', 'Rockhopper:WT',\n",
       "       'Rockhopper:sgrs'],\n",
       "      dtype='object')"
      ]
     },
     "execution_count": 47,
     "metadata": {},
     "output_type": "execute_result"
    }
   ],
   "source": [
    "cond_counts = DF_metadata_passed.full_name.value_counts()\n",
    "drop_conds = cond_counts[cond_counts < 2].index\n",
    "drop_conds"
   ]
  },
  {
   "cell_type": "code",
   "execution_count": 48,
   "metadata": {},
   "outputs": [],
   "source": [
    "DF_metadata_passed['passed_number_replicates'] = ~DF_metadata_passed.condition_name.isin(drop_conds)"
   ]
  },
  {
   "cell_type": "code",
   "execution_count": 49,
   "metadata": {},
   "outputs": [],
   "source": [
    "DF_metadata_passed = DF_metadata_passed[DF_metadata_passed['passed_number_replicates']]"
   ]
  },
  {
   "cell_type": "markdown",
   "metadata": {},
   "source": [
    "## SL1344: Removed two datasets that are not RNA-seq"
   ]
  },
  {
   "cell_type": "code",
   "execution_count": 50,
   "metadata": {},
   "outputs": [],
   "source": [
    "# #SL1344: drop these projects\n",
    "# #PRJNA322828: not RNA seq\n",
    "# DF_metadata_passed = DF_metadata_passed[DF_metadata_passed.BioProject !='PRJNA322828']\n",
    "\n",
    "\n",
    "# #PRJNA266347: GRAD seq has different assumptions as RNA seq\n",
    "# DF_metadata_passed = DF_metadata_passed[DF_metadata_passed.BioProject !='PRJNA266347']"
   ]
  },
  {
   "cell_type": "markdown",
   "metadata": {},
   "source": [
    "## ST4/74: Kept samples under interesting condition but no replicates"
   ]
  },
  {
   "cell_type": "code",
   "execution_count": 51,
   "metadata": {},
   "outputs": [],
   "source": [
    "# #ST4/74\n",
    "# jh_projects = ['PRJNA215033','PRJNA315446','PRJNA490148']"
   ]
  },
  {
   "cell_type": "code",
   "execution_count": 52,
   "metadata": {},
   "outputs": [],
   "source": [
    "# #Samples that failed replicate correlations\n",
    "# failed_rep = (set(dissimilar)-set(DF_metadata_passed[DF_metadata_passed.full_name.isin(drop_conds)].index))\n",
    "# # failed_rep"
   ]
  },
  {
   "cell_type": "code",
   "execution_count": 53,
   "metadata": {},
   "outputs": [],
   "source": [
    "# jh1_idx = DF_metadata_passed[DF_metadata_passed.BioProject=='PRJNA215033'].index\n",
    "# jh2_idx = DF_metadata_passed[DF_metadata_passed.BioProject=='PRJNA315446'].index\n",
    "# jh3_idx = DF_metadata_passed[DF_metadata_passed.BioProject=='PRJNA490148'].index\n",
    "# drop = set(dissimilar)-set(jh1_idx)-set(jh2_idx)-set(jh3_idx)-set(failed_rep)"
   ]
  },
  {
   "cell_type": "code",
   "execution_count": 54,
   "metadata": {
    "scrolled": false
   },
   "outputs": [],
   "source": [
    "# rcutoff = 0.8\n",
    "\n",
    "# jh1_df = DF_log_tpm[jh1_idx]\n",
    "# corrs_1=(jh1_df.corr()-np.identity(jh1_df.shape[1])).max()\n",
    "# jh1_drop = corrs_1[corrs_1<rcutoff]\n",
    "# print('PRJNA215033:\\n',jh1_drop)\n",
    "\n",
    "# jh2_df = DF_log_tpm[jh2_idx]\n",
    "# corrs_2=(jh2_df.corr()-np.identity(jh2_df.shape[1])).max()\n",
    "# jh2_drop = corrs_2[corrs_2<rcutoff]\n",
    "# print('PRJNA315446:\\n',jh2_drop)\n",
    "\n",
    "# jh3_df = DF_log_tpm[jh3_idx]\n",
    "# corrs_3=(jh3_df.corr()-np.identity(jh3_df.shape[1])).max()\n",
    "# jh3_drop = corrs_3[corrs_3<rcutoff]\n",
    "# print('PRJNA490148:\\n',jh3_drop)"
   ]
  },
  {
   "cell_type": "code",
   "execution_count": 55,
   "metadata": {},
   "outputs": [],
   "source": [
    "# total_drop_index=list(failed_rep) + list(drop) + list(jh1_drop.index) + list(jh2_drop.index) + list(jh3_drop.index)\n",
    "# # total_drop_index"
   ]
  },
  {
   "cell_type": "code",
   "execution_count": 56,
   "metadata": {},
   "outputs": [],
   "source": [
    "# keep = set(DF_metadata_passed.index)-set(total_drop_index)\n",
    "# DF_metadata_final = DF_metadata_passed.loc[keep]"
   ]
  },
  {
   "cell_type": "code",
   "execution_count": 57,
   "metadata": {},
   "outputs": [],
   "source": [
    "# DF_metadata_final.shape"
   ]
  },
  {
   "cell_type": "markdown",
   "metadata": {},
   "source": [
    "## D23580: comparative studies are kept"
   ]
  },
  {
   "cell_type": "code",
   "execution_count": 58,
   "metadata": {},
   "outputs": [],
   "source": [
    "# PRJNA422455, PRJNA490148"
   ]
  },
  {
   "cell_type": "code",
   "execution_count": 59,
   "metadata": {},
   "outputs": [],
   "source": [
    "# #Samples that failed replicate correlations\n",
    "# failed_rep = (set(dissimilar)-set(DF_metadata_passed[DF_metadata_passed.full_name.isin(drop_conds)].index))\n",
    "# failed_rep"
   ]
  },
  {
   "cell_type": "code",
   "execution_count": 60,
   "metadata": {},
   "outputs": [],
   "source": [
    "# jh1_idx = DF_metadata_passed[DF_metadata_passed.BioProject=='PRJNA422455'].index\n",
    "# jh2_idx = DF_metadata_passed[DF_metadata_passed.BioProject=='PRJNA490148'].index\n",
    "# drop = set(dissimilar)-set(jh1_idx)-set(jh2_idx)-set(failed_rep)"
   ]
  },
  {
   "cell_type": "code",
   "execution_count": 61,
   "metadata": {},
   "outputs": [],
   "source": [
    "# rcutoff = 0.8\n",
    "\n",
    "# jh1_df = DF_log_tpm[jh1_idx]\n",
    "# corrs_1=(jh1_df.corr()-np.identity(jh1_df.shape[1])).max()\n",
    "# jh1_drop = corrs_1[corrs_1<rcutoff]\n",
    "# print('PRJNA422455:\\n',jh1_drop)\n",
    "\n",
    "# jh2_df = DF_log_tpm[jh2_idx]\n",
    "# corrs_2=(jh2_df.corr()-np.identity(jh2_df.shape[1])).max()\n",
    "# jh2_drop = corrs_2[corrs_2<rcutoff]\n",
    "# print('PRJNA490148:\\n',jh2_drop)"
   ]
  },
  {
   "cell_type": "code",
   "execution_count": 62,
   "metadata": {},
   "outputs": [],
   "source": [
    "# total_drop_index=list(failed_rep) + list(drop) + list(jh1_drop.index) + list(jh2_drop.index)\n",
    "# total_drop_index"
   ]
  },
  {
   "cell_type": "code",
   "execution_count": 63,
   "metadata": {},
   "outputs": [],
   "source": [
    "# keep = set(DF_metadata_passed.index)-set(total_drop_index)\n",
    "# DF_metadata_final = DF_metadata_passed.loc[keep]"
   ]
  },
  {
   "cell_type": "code",
   "execution_count": 64,
   "metadata": {},
   "outputs": [],
   "source": [
    "# DF_metadata_final.shape"
   ]
  },
  {
   "cell_type": "markdown",
   "metadata": {},
   "source": [
    "## 14028S: Time series dataset (PRJNA280002) was kept"
   ]
  },
  {
   "cell_type": "code",
   "execution_count": 65,
   "metadata": {},
   "outputs": [],
   "source": [
    "# #Samples that failed replicate correlations\n",
    "# failed_rep = (set(dissimilar)-set(DF_metadata_passed[DF_metadata_passed.full_name.isin(drop_conds)].index))\n",
    "# len(failed_rep)"
   ]
  },
  {
   "cell_type": "code",
   "execution_count": 66,
   "metadata": {},
   "outputs": [],
   "source": [
    "# timeseries = DF_metadata_passed[DF_metadata_passed.BioProject=='PRJNA280002'].index\n",
    "# drop = set(dissimilar)-set(timeseries)-set(failed_rep)"
   ]
  },
  {
   "cell_type": "code",
   "execution_count": 67,
   "metadata": {},
   "outputs": [],
   "source": [
    "# rcutoff = 0.8\n",
    "\n",
    "# timeseries_df = DF_log_tpm[timeseries]\n",
    "# corrs_t=(timeseries_df.corr()-np.identity(timeseries_df.shape[1])).max()\n",
    "# timeseries_drop = corrs_t[corrs_t<rcutoff]\n",
    "# print('timeseries:\\n',timeseries_drop)"
   ]
  },
  {
   "cell_type": "code",
   "execution_count": 68,
   "metadata": {
    "scrolled": true
   },
   "outputs": [],
   "source": [
    "# total_drop_index=list(failed_rep) + list(drop) + list(timeseries_drop.index)\n",
    "# total_drop_index"
   ]
  },
  {
   "cell_type": "code",
   "execution_count": 69,
   "metadata": {},
   "outputs": [],
   "source": [
    "# keep = set(DF_metadata_passed.index)-set(total_drop_index)\n",
    "# DF_metadata_final = DF_metadata_passed.loc[keep]"
   ]
  },
  {
   "cell_type": "code",
   "execution_count": 70,
   "metadata": {},
   "outputs": [],
   "source": [
    "# DF_metadata_final.shape"
   ]
  },
  {
   "cell_type": "markdown",
   "metadata": {},
   "source": [
    "# Remove failed samples"
   ]
  },
  {
   "cell_type": "code",
   "execution_count": 71,
   "metadata": {},
   "outputs": [],
   "source": [
    "qc_columns = ['passed_number_replicates','passed_similar_replicates']"
   ]
  },
  {
   "cell_type": "code",
   "execution_count": 72,
   "metadata": {},
   "outputs": [],
   "source": [
    "DF_metadata_final = DF_metadata_passed[DF_metadata_passed[qc_columns].all(axis=1)]"
   ]
  },
  {
   "cell_type": "code",
   "execution_count": 73,
   "metadata": {},
   "outputs": [],
   "source": [
    "DF_log_tpm_final = DF_log_tpm[DF_metadata_final.index]"
   ]
  },
  {
   "cell_type": "code",
   "execution_count": 74,
   "metadata": {},
   "outputs": [
    {
     "data": {
      "text/plain": [
       "(61, 61)"
      ]
     },
     "execution_count": 74,
     "metadata": {},
     "output_type": "execute_result"
    }
   ],
   "source": [
    "DF_metadata_final.shape"
   ]
  },
  {
   "cell_type": "markdown",
   "metadata": {},
   "source": [
    "# Final statistics"
   ]
  },
  {
   "cell_type": "code",
   "execution_count": 75,
   "metadata": {},
   "outputs": [],
   "source": [
    "qc_columns = ['passed_number_replicates','passed_similar_replicates']"
   ]
  },
  {
   "cell_type": "code",
   "execution_count": 76,
   "metadata": {},
   "outputs": [],
   "source": [
    "a = DF_metadata_passed[qc_columns].all(axis=1)"
   ]
  },
  {
   "cell_type": "code",
   "execution_count": 77,
   "metadata": {},
   "outputs": [],
   "source": [
    "qc_columns = ['passed_fastqc',\n",
    "              'passed_reads_mapped_to_CDS',\n",
    "              'passed_global_correlation']"
   ]
  },
  {
   "cell_type": "code",
   "execution_count": 78,
   "metadata": {},
   "outputs": [],
   "source": [
    "b = DF_metadata[qc_columns].all(axis=1)\n",
    "pass_qc = a&b"
   ]
  },
  {
   "cell_type": "code",
   "execution_count": 79,
   "metadata": {
    "scrolled": false
   },
   "outputs": [
    {
     "data": {
      "image/png": "[encoded data removed]",
      "text/plain": [
       "<Figure size 432x288 with 1 Axes>"
      ]
     },
     "metadata": {},
     "output_type": "display_data"
    }
   ],
   "source": [
    "_,_,pcts = plt.pie(pass_qc.value_counts().sort_values(),\n",
    "        labels = ['Failed','Passed'],\n",
    "        colors=['tab:red','tab:blue'],\n",
    "        autopct='%.0f%%',textprops={'size':16});\n",
    "\n",
    "# Colors percents white\n",
    "for pct in pcts:\n",
    "    pct.set_color('white')"
   ]
  },
  {
   "cell_type": "code",
   "execution_count": 80,
   "metadata": {},
   "outputs": [
    {
     "name": "stdout",
     "output_type": "stream",
     "text": [
      "LT2 :\n",
      "Original number of samples in metadata: 115\n",
      "Samples with no expression data: 2\n",
      "Number of samples that failed fastqc: 2\n",
      "Number of samples that failed mrna: 30\n",
      "Number of samples that failed global correlation: 6\n",
      "Number of samples that failed replicates correlation: 7\n",
      "Number of samples with no replicates: 10\n",
      "Number of samples after QC: 61\n"
     ]
    }
   ],
   "source": [
    "print(organism,':')\n",
    "print('Original number of samples in metadata:',s)\n",
    "print('Samples with no expression data:',s-DF_log_tpm.shape[1])\n",
    "print('Number of samples that failed fastqc:',DF_failed_fastqc.shape[0])\n",
    "#print('Number of samples that failed mapping:',DF_failed_mapping.shape[0])\n",
    "print('Number of samples that failed mrna:',DF_failed_mrna.shape[0])\n",
    "print('Number of samples that failed global correlation:',len(failed_global_corr))\n",
    "print('Number of samples that failed replicates correlation:',len(dissimilar)-len(drop_conds))\n",
    "print('Number of samples with no replicates:',len(drop_conds))\n",
    "print('Number of samples after QC:',DF_metadata_final.shape[0])\n",
    "#print('Number of samples droped within the Jay Hinton datasets (corr<0.8):',1)\n",
    "#print('Number of samples droped within the timeseries dataset (corr<0.8):',0)"
   ]
  },
  {
   "cell_type": "markdown",
   "metadata": {},
   "source": [
    "# Save final datasets"
   ]
  },
  {
   "cell_type": "code",
   "execution_count": 81,
   "metadata": {},
   "outputs": [],
   "source": [
    "# DF_log_tpm_final.to_csv(path.join('../data/',organism) + '/interim/'+'log_tpm_qc.csv')\n",
    "# DF_metadata_final.to_csv(path.join('../data/',organism) + '/interim/'+'metadata_qc.csv'))"
   ]
  }
 ],
 "metadata": {
  "kernelspec": {
   "display_name": "Python 3",
   "language": "python",
   "name": "python3"
  },
  "language_info": {
   "codemirror_mode": {
    "name": "ipython",
    "version": 3
   },
   "file_extension": ".py",
   "mimetype": "text/x-python",
   "name": "python",
   "nbconvert_exporter": "python",
   "pygments_lexer": "ipython3",
   "version": "3.8.5"
  },
  "toc": {
   "base_numbering": 1,
   "nav_menu": {},
   "number_sections": true,
   "sideBar": true,
   "skip_h1_title": false,
   "title_cell": "Table of Contents",
   "title_sidebar": "Contents",
   "toc_cell": true,
   "toc_position": {
    "height": "calc(100% - 180px)",
    "left": "10px",
    "top": "150px",
    "width": "369.6px"
   },
   "toc_section_display": true,
   "toc_window_display": true
  }
 },
 "nbformat": 4,
 "nbformat_minor": 2
}
